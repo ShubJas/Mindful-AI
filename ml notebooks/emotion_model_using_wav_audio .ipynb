{
  "metadata": {
    "kernelspec": {
      "language": "python",
      "display_name": "Python 3",
      "name": "python3"
    },
    "language_info": {
      "name": "python",
      "version": "3.7.6",
      "mimetype": "text/x-python",
      "codemirror_mode": {
        "name": "ipython",
        "version": 3
      },
      "pygments_lexer": "ipython3",
      "nbconvert_exporter": "python",
      "file_extension": ".py"
    },
    "colab": {
      "provenance": []
    }
  },
  "nbformat_minor": 0,
  "nbformat": 4,
  "cells": [
    {
      "cell_type": "code",
      "source": [
        "from google.colab import drive\n",
        "drive.mount('/content/drive', force_remount=True)"
      ],
      "metadata": {
        "colab": {
          "base_uri": "https://localhost:8080/"
        },
        "id": "4yy0xBndx9zZ",
        "outputId": "10c1f4eb-09a7-41b1-ad5b-a0244362d034"
      },
      "execution_count": null,
      "outputs": [
        {
          "output_type": "stream",
          "name": "stdout",
          "text": [
            "Mounted at /content/drive\n"
          ]
        }
      ]
    },
    {
      "cell_type": "code",
      "source": [
        "pip install librosa"
      ],
      "metadata": {
        "execution": {
          "iopub.status.busy": "2023-10-20T10:22:53.246433Z",
          "iopub.execute_input": "2023-10-20T10:22:53.246868Z",
          "iopub.status.idle": "2023-10-20T10:22:58.264957Z",
          "shell.execute_reply.started": "2023-10-20T10:22:53.246822Z",
          "shell.execute_reply": "2023-10-20T10:22:58.264134Z"
        },
        "trusted": true,
        "colab": {
          "base_uri": "https://localhost:8080/"
        },
        "id": "Em3aJ21TxIb7",
        "outputId": "d41a5944-4967-4ad5-c75f-aa142bcf488c"
      },
      "execution_count": null,
      "outputs": [
        {
          "output_type": "stream",
          "name": "stdout",
          "text": [
            "Requirement already satisfied: librosa in /usr/local/lib/python3.10/dist-packages (0.10.1)\n",
            "Requirement already satisfied: audioread>=2.1.9 in /usr/local/lib/python3.10/dist-packages (from librosa) (3.0.1)\n",
            "Requirement already satisfied: numpy!=1.22.0,!=1.22.1,!=1.22.2,>=1.20.3 in /usr/local/lib/python3.10/dist-packages (from librosa) (1.23.5)\n",
            "Requirement already satisfied: scipy>=1.2.0 in /usr/local/lib/python3.10/dist-packages (from librosa) (1.11.3)\n",
            "Requirement already satisfied: scikit-learn>=0.20.0 in /usr/local/lib/python3.10/dist-packages (from librosa) (1.2.2)\n",
            "Requirement already satisfied: joblib>=0.14 in /usr/local/lib/python3.10/dist-packages (from librosa) (1.3.2)\n",
            "Requirement already satisfied: decorator>=4.3.0 in /usr/local/lib/python3.10/dist-packages (from librosa) (4.4.2)\n",
            "Requirement already satisfied: numba>=0.51.0 in /usr/local/lib/python3.10/dist-packages (from librosa) (0.56.4)\n",
            "Requirement already satisfied: soundfile>=0.12.1 in /usr/local/lib/python3.10/dist-packages (from librosa) (0.12.1)\n",
            "Requirement already satisfied: pooch>=1.0 in /usr/local/lib/python3.10/dist-packages (from librosa) (1.7.0)\n",
            "Requirement already satisfied: soxr>=0.3.2 in /usr/local/lib/python3.10/dist-packages (from librosa) (0.3.7)\n",
            "Requirement already satisfied: typing-extensions>=4.1.1 in /usr/local/lib/python3.10/dist-packages (from librosa) (4.5.0)\n",
            "Requirement already satisfied: lazy-loader>=0.1 in /usr/local/lib/python3.10/dist-packages (from librosa) (0.3)\n",
            "Requirement already satisfied: msgpack>=1.0 in /usr/local/lib/python3.10/dist-packages (from librosa) (1.0.7)\n",
            "Requirement already satisfied: llvmlite<0.40,>=0.39.0dev0 in /usr/local/lib/python3.10/dist-packages (from numba>=0.51.0->librosa) (0.39.1)\n",
            "Requirement already satisfied: setuptools in /usr/local/lib/python3.10/dist-packages (from numba>=0.51.0->librosa) (67.7.2)\n",
            "Requirement already satisfied: platformdirs>=2.5.0 in /usr/local/lib/python3.10/dist-packages (from pooch>=1.0->librosa) (3.11.0)\n",
            "Requirement already satisfied: packaging>=20.0 in /usr/local/lib/python3.10/dist-packages (from pooch>=1.0->librosa) (23.2)\n",
            "Requirement already satisfied: requests>=2.19.0 in /usr/local/lib/python3.10/dist-packages (from pooch>=1.0->librosa) (2.31.0)\n",
            "Requirement already satisfied: threadpoolctl>=2.0.0 in /usr/local/lib/python3.10/dist-packages (from scikit-learn>=0.20.0->librosa) (3.2.0)\n",
            "Requirement already satisfied: cffi>=1.0 in /usr/local/lib/python3.10/dist-packages (from soundfile>=0.12.1->librosa) (1.16.0)\n",
            "Requirement already satisfied: pycparser in /usr/local/lib/python3.10/dist-packages (from cffi>=1.0->soundfile>=0.12.1->librosa) (2.21)\n",
            "Requirement already satisfied: charset-normalizer<4,>=2 in /usr/local/lib/python3.10/dist-packages (from requests>=2.19.0->pooch>=1.0->librosa) (3.3.0)\n",
            "Requirement already satisfied: idna<4,>=2.5 in /usr/local/lib/python3.10/dist-packages (from requests>=2.19.0->pooch>=1.0->librosa) (3.4)\n",
            "Requirement already satisfied: urllib3<3,>=1.21.1 in /usr/local/lib/python3.10/dist-packages (from requests>=2.19.0->pooch>=1.0->librosa) (2.0.7)\n",
            "Requirement already satisfied: certifi>=2017.4.17 in /usr/local/lib/python3.10/dist-packages (from requests>=2.19.0->pooch>=1.0->librosa) (2023.7.22)\n"
          ]
        }
      ]
    },
    {
      "cell_type": "code",
      "source": [
        "import pandas as pd\n",
        "import numpy as np\n",
        "\n",
        "import os\n",
        "import sys\n",
        "\n",
        "# librosa is a Python library for analyzing audio and music. It can be used to extract the data from the audio files we will see it later.\n",
        "import librosa\n",
        "import librosa.display\n",
        "import seaborn as sns\n",
        "import matplotlib.pyplot as plt\n",
        "\n",
        "from sklearn.preprocessing import StandardScaler, OneHotEncoder\n",
        "from sklearn.metrics import confusion_matrix, classification_report\n",
        "from sklearn.model_selection import train_test_split\n",
        "\n",
        "# to play the audio files\n",
        "from IPython.display import Audio\n",
        "\n",
        "import keras\n",
        "from keras.callbacks import ReduceLROnPlateau\n",
        "from keras.models import Sequential\n",
        "from keras.layers import Dense, Conv1D, MaxPooling1D, Flatten, Dropout, BatchNormalization\n",
        "# Remove np_utils from the import statement as it's no longer needed\n",
        "from keras.utils import to_categorical\n",
        "\n",
        "from keras.callbacks import ModelCheckpoint\n",
        "\n",
        "import warnings\n",
        "if not sys.warnoptions:\n",
        "    warnings.simplefilter(\"ignore\")\n",
        "warnings.filterwarnings(\"ignore\", category=DeprecationWarning)"
      ],
      "metadata": {
        "_uuid": "d629ff2d2480ee46fbb7e2d37f6b5fab8052498a",
        "_cell_guid": "79c7e3d0-c299-4dcb-8224-4455121ee9b0",
        "execution": {
          "iopub.status.busy": "2023-10-20T10:28:09.276516Z",
          "iopub.execute_input": "2023-10-20T10:28:09.276836Z",
          "iopub.status.idle": "2023-10-20T10:28:09.285774Z",
          "shell.execute_reply.started": "2023-10-20T10:28:09.276811Z",
          "shell.execute_reply": "2023-10-20T10:28:09.285034Z"
        },
        "trusted": true,
        "id": "4kqJll8hxIb8"
      },
      "execution_count": null,
      "outputs": []
    },
    {
      "cell_type": "markdown",
      "source": [
        "##  <center> 3. TESS dataset <center>"
      ],
      "metadata": {
        "id": "s8wDdhTPxIb-"
      }
    },
    {
      "cell_type": "code",
      "source": [
        "def noise(data):\n",
        "    noise_amp = 0.035*np.random.uniform()*np.amax(data)\n",
        "    data = data + noise_amp*np.random.normal(size=data.shape[0])\n",
        "    return data\n",
        "\n",
        "def stretch(data, rate=0.8):\n",
        "    return librosa.effects.time_stretch(y=data, rate=rate)\n",
        "\n",
        "\n",
        "def shift(data):\n",
        "    shift_range = int(np.random.uniform(low=-5, high = 5)*1000)\n",
        "    return np.roll(data, shift_range)\n",
        "\n",
        "# def pitch(data, sampling_rate, pitch_factor=0.7):\n",
        "#     return librosa.effects.pitch_shift(data, sampling_rate, pitch_factor)\n",
        "\n",
        "\n",
        "def pitch(data, sampling_rate, n_steps=0.7):  # Changed pitch_factor to n_steps for clarity\n",
        "    return librosa.effects.pitch_shift(y=data, sr=sampling_rate, n_steps=n_steps)\n",
        "\n",
        "\n",
        "def extract_features(data,sample_rate):\n",
        "    # ZCR\n",
        "    result = np.array([])\n",
        "    zcr = np.mean(librosa.feature.zero_crossing_rate(y=data).T, axis=0)\n",
        "    result=np.hstack((result, zcr)) # stacking horizontally\n",
        "\n",
        "    # Chroma_stft\n",
        "    stft = np.abs(librosa.stft(data))\n",
        "    chroma_stft = np.mean(librosa.feature.chroma_stft(S=stft, sr=sample_rate).T, axis=0)\n",
        "    result = np.hstack((result, chroma_stft)) # stacking horizontally\n",
        "\n",
        "    # MFCC\n",
        "    mfcc = np.mean(librosa.feature.mfcc(y=data, sr=sample_rate).T, axis=0)\n",
        "    result = np.hstack((result, mfcc)) # stacking horizontally\n",
        "\n",
        "    # Root Mean Square Value\n",
        "    rms = np.mean(librosa.feature.rms(y=data).T, axis=0)\n",
        "    result = np.hstack((result, rms)) # stacking horizontally\n",
        "\n",
        "    # MelSpectogram\n",
        "    mel = np.mean(librosa.feature.melspectrogram(y=data, sr=sample_rate).T, axis=0)\n",
        "    result = np.hstack((result, mel)) # stacking horizontally\n",
        "\n",
        "    return result\n",
        "\n",
        "def get_features(path):\n",
        "    # duration and offset are used to take care of the no audio in start and the ending of each audio files as seen above.\n",
        "    data, sample_rate = librosa.load(path, duration=2.5, offset=0.6)\n",
        "\n",
        "    # without augmentation\n",
        "    res1 = extract_features(data,sample_rate)\n",
        "    result = np.array(res1)\n",
        "\n",
        "    # data with noise\n",
        "    noise_data = noise(data)\n",
        "    res2 = extract_features(noise_data,sample_rate)\n",
        "    result = np.vstack((result, res2)) # stacking vertically\n",
        "\n",
        "    # data with stretching and pitching\n",
        "    new_data= stretch(data)\n",
        "    data_stretch_pitch = pitch(new_data, sample_rate)\n",
        "    res3 = extract_features(data_stretch_pitch,sample_rate)\n",
        "    result = np.vstack((result, res3)) # stacking vertically\n",
        "\n",
        "    return result\n",
        "\n",
        "# X= []\n",
        "\n",
        "# path='/content/drive/MyDrive/MCA Dataset/dev_data/302_AUDIO.wav'\n",
        "# feature = get_features(path)\n",
        "# for ele in feature:\n",
        "#     X.append(ele)\n",
        "\n",
        "# Features = pd.DataFrame(X)"
      ],
      "metadata": {
        "execution": {
          "iopub.status.busy": "2023-10-20T10:29:53.296431Z",
          "iopub.execute_input": "2023-10-20T10:29:53.296746Z",
          "iopub.status.idle": "2023-10-20T10:29:53.307167Z",
          "shell.execute_reply.started": "2023-10-20T10:29:53.296719Z",
          "shell.execute_reply": "2023-10-20T10:29:53.306421Z"
        },
        "trusted": true,
        "id": "I0NUU6uLxIcC"
      },
      "execution_count": null,
      "outputs": []
    },
    {
      "cell_type": "code",
      "source": [
        "devData = np.array(pd.read_csv('/content/drive/My Drive/MCA Dataset/dev_split_Depression_AVEC2017.csv',delimiter=',',encoding='utf-8'))[:, 0:2]\n",
        "testData = np.array(pd.read_csv('/content/drive/My Drive/MCA Dataset/full_test_split.csv',delimiter=',',encoding='utf-8'))[:, 0:2]\n",
        "trainData = np.array(pd.read_csv('/content/drive/My Drive/MCA Dataset/train_split_Depression_AVEC2017.csv',delimiter=',',encoding='utf-8'))[:, 0:2]\n"
      ],
      "metadata": {
        "id": "NyorHjUTjHNq"
      },
      "execution_count": null,
      "outputs": []
    },
    {
      "cell_type": "code",
      "source": [
        "def checkDataPointExistence(patientID, split):\n",
        "  for i in split:\n",
        "    if(patientID == i[0]):\n",
        "      return True\n",
        "  return False"
      ],
      "metadata": {
        "id": "w4naYY5AjWIX"
      },
      "execution_count": null,
      "outputs": []
    },
    {
      "cell_type": "code",
      "source": [
        "X, Y = [], []\n",
        "for path, emotion in zip(Crema_df.Path, Crema_df.Emotions):\n",
        "    feature = get_features(path)\n",
        "    for ele in feature:\n",
        "        X.append(ele)\n",
        "        # appending emotion 3 times as we have made 3 augmentation techniques on each audio file.\n",
        "        Y.append(emotion)"
      ],
      "metadata": {
        "id": "ZZ2HqLkwibRt"
      },
      "execution_count": null,
      "outputs": []
    },
    {
      "cell_type": "code",
      "source": [
        "# Load the dataset with participant IDs and their corresponding labels\n",
        "labels_df = pd.read_csv('/content/drive/My Drive/MCA Dataset/dev_split_Depression_AVEC2017.csv', delimiter=',', encoding='utf-8')\n",
        "\n",
        "# Directory containing the audio files\n",
        "audio_dir = '/content/drive/MyDrive/MCA Dataset/dev_data'\n",
        "\n",
        "# Prepare a mapping from Participant_ID to PHQ8_Binary\n",
        "id_to_emotion = pd.Series(labels_df.PHQ8_Binary.values, index=labels_df.Participant_ID).to_dict()\n",
        "\n",
        "# Lists to hold the extracted features and corresponding labels\n",
        "X, Y = [], []\n",
        "\n",
        "# Process each audio file in the directory\n",
        "for filename in os.listdir(audio_dir):\n",
        "    if filename.endswith('.wav') and filename.count('_') == 1:\n",
        "        # Extract Participant_ID from the filename\n",
        "        # The filename format is \"302_AUDIO.wav\", so we split by '_' and take the first part\n",
        "        participant_id = int(filename.split('_')[0])\n",
        "\n",
        "        # Skip processing if the participant is not in the labels dataframe\n",
        "        if participant_id not in id_to_emotion:\n",
        "            continue\n",
        "\n",
        "        # Get the corresponding label for this participant\n",
        "        emotion = id_to_emotion[participant_id]\n",
        "\n",
        "        # Full path to the audio file\n",
        "        file_path = os.path.join(audio_dir, filename)\n",
        "        # print(file_path)\n",
        "        # print(emotion)\n",
        "        # print(filename)\n",
        "        # print(participant_id)\n",
        "        # break\n",
        "\n",
        "\n",
        "        # Extract features\n",
        "        features = get_features(file_path)\n",
        "\n",
        "        # Append features and labels\n",
        "        for feature in features:\n",
        "            X.append(feature)\n",
        "            Y.append(emotion)  # Appending the emotion label for each feature extracted\n",
        "\n",
        "# At this point, X is a list of features and Y is a list of corresponding labels.\n"
      ],
      "metadata": {
        "id": "abM8t3HTmiGR"
      },
      "execution_count": null,
      "outputs": []
    },
    {
      "cell_type": "code",
      "source": [
        "# Load the dataset with participant IDs and their corresponding labels\n",
        "labels_df = pd.read_csv('/content/drive/My Drive/MCA Dataset/train_split_Depression_AVEC2017.csv', delimiter=',', encoding='utf-8')\n",
        "\n",
        "# Directory containing the audio files\n",
        "audio_dir = '/content/drive/MyDrive/MCA Dataset/train_data'\n",
        "\n",
        "# Prepare a mapping from Participant_ID to PHQ8_Binary\n",
        "id_to_emotion = pd.Series(labels_df.PHQ8_Binary.values, index=labels_df.Participant_ID).to_dict()\n",
        "\n",
        "# Lists to hold the extracted features and corresponding labels\n",
        "X, Y = [], []\n",
        "c=0\n",
        "# Process each audio file in the directory\n",
        "for filename in os.listdir(audio_dir):\n",
        "\n",
        "    if filename.endswith('.wav') and filename.count('_') == 1:\n",
        "\n",
        "        # Extract Participant_ID from the filename\n",
        "        # The filename format is \"302_AUDIO.wav\", so we split by '_' and take the first part\n",
        "        participant_id = int(filename.split('_')[0])\n",
        "        if participant_id>= 440 :\n",
        "          c=c+1\n",
        "\n",
        "\n",
        "          # print(file_path)\n",
        "          # print(emotion)\n",
        "          # print(filename)\n",
        "          # print(participant_id)\n",
        "          # break\n",
        "\n",
        "\n",
        "          # Skip processing if the participant is not in the labels dataframe\n",
        "          if participant_id not in id_to_emotion:\n",
        "              continue\n",
        "\n",
        "          # Get the corresponding label for this participant\n",
        "          emotion = id_to_emotion[participant_id]\n",
        "\n",
        "          # Full path to the audio file\n",
        "          file_path = os.path.join(audio_dir, filename)\n",
        "\n",
        "\n",
        "\n",
        "          # Extract features\n",
        "          features = get_features(file_path)\n",
        "\n",
        "          # Append features and labels\n",
        "          for feature in features:\n",
        "              X.append(feature)\n",
        "              Y.append(emotion)  # Appending the emotion label for each feature extracted\n",
        "print(c)\n",
        "# At this point, X is a list of features and Y is a list of corresponding labels.\n"
      ],
      "metadata": {
        "colab": {
          "base_uri": "https://localhost:8080/"
        },
        "id": "7tbtfTxOuawU",
        "outputId": "e1812873-d21b-45ff-9d67-f0aee722aa01"
      },
      "execution_count": null,
      "outputs": [
        {
          "output_type": "stream",
          "name": "stdout",
          "text": [
            "27\n"
          ]
        }
      ]
    },
    {
      "cell_type": "code",
      "source": [
        "print(len(X[0]))"
      ],
      "metadata": {
        "colab": {
          "base_uri": "https://localhost:8080/"
        },
        "id": "8lJBbc3jXZxo",
        "outputId": "949403f6-ba8e-4b0c-8c09-68c0cf1fea02"
      },
      "execution_count": null,
      "outputs": [
        {
          "output_type": "stream",
          "name": "stdout",
          "text": [
            "162\n"
          ]
        }
      ]
    },
    {
      "cell_type": "code",
      "source": [
        "len(X), len(Y)"
      ],
      "metadata": {
        "colab": {
          "base_uri": "https://localhost:8080/"
        },
        "id": "GMqB9-18sOAY",
        "outputId": "3de06e50-0556-4c80-fbff-b80dd0c76408"
      },
      "execution_count": null,
      "outputs": [
        {
          "output_type": "execute_result",
          "data": {
            "text/plain": [
              "(81, 81)"
            ]
          },
          "metadata": {},
          "execution_count": 27
        }
      ]
    },
    {
      "cell_type": "code",
      "source": [
        "Features = pd.DataFrame(X)\n",
        "Features['labels'] = Y\n",
        "Features.to_csv('features3.csv', index=False)\n",
        "Features.head()"
      ],
      "metadata": {
        "colab": {
          "base_uri": "https://localhost:8080/",
          "height": 342
        },
        "id": "Cs701tp2sSvo",
        "outputId": "8dc475d7-0628-49a6-e7bd-016b0adb5071"
      },
      "execution_count": null,
      "outputs": [
        {
          "output_type": "execute_result",
          "data": {
            "text/plain": [
              "          0         1         2         3         4         5         6  \\\n",
              "0  0.044660  0.796911  0.805765  0.797193  0.793657  0.807335  0.813584   \n",
              "1  0.047142  0.811304  0.818460  0.811047  0.809669  0.821628  0.815442   \n",
              "2  0.047425  0.787183  0.782049  0.740005  0.750662  0.764455  0.794102   \n",
              "3  0.034333  0.834362  0.832510  0.818167  0.871688  0.874627  0.875385   \n",
              "4  0.038231  0.857938  0.854511  0.842768  0.902083  0.883904  0.877007   \n",
              "\n",
              "          7         8         9  ...           153           154  \\\n",
              "0  0.798822  0.840821  0.889179  ...  5.245785e-11  4.875256e-11   \n",
              "1  0.788887  0.830039  0.878441  ...  8.605178e-09  8.388205e-09   \n",
              "2  0.791748  0.813907  0.838001  ...  3.851564e-11  3.410677e-11   \n",
              "3  0.856701  0.813531  0.836067  ...  5.273030e-11  4.878389e-11   \n",
              "4  0.819352  0.789198  0.837028  ...  1.721167e-08  1.736957e-08   \n",
              "\n",
              "            155           156           157           158           159  \\\n",
              "0  4.612075e-11  4.415840e-11  4.269685e-11  4.164807e-11  4.088695e-11   \n",
              "1  8.075597e-09  8.550305e-09  8.726810e-09  8.550608e-09  8.595045e-09   \n",
              "2  3.083212e-11  2.860433e-11  2.696793e-11  2.573537e-11  2.497816e-11   \n",
              "3  4.598941e-11  4.391190e-11  4.236640e-11  4.125524e-11  4.044916e-11   \n",
              "4  1.683692e-08  1.752589e-08  1.754852e-08  1.619338e-08  1.781451e-08   \n",
              "\n",
              "            160           161  labels  \n",
              "0  4.039629e-11  4.009137e-11       1  \n",
              "1  7.986999e-09  8.400312e-09       1  \n",
              "2  1.994450e-11  7.712622e-12       1  \n",
              "3  3.992722e-11  3.960414e-11       0  \n",
              "4  1.821153e-08  1.664945e-08       0  \n",
              "\n",
              "[5 rows x 163 columns]"
            ],
            "text/html": [
              "\n",
              "  <div id=\"df-356818a2-8f5e-4a0c-941c-8b8181394962\" class=\"colab-df-container\">\n",
              "    <div>\n",
              "<style scoped>\n",
              "    .dataframe tbody tr th:only-of-type {\n",
              "        vertical-align: middle;\n",
              "    }\n",
              "\n",
              "    .dataframe tbody tr th {\n",
              "        vertical-align: top;\n",
              "    }\n",
              "\n",
              "    .dataframe thead th {\n",
              "        text-align: right;\n",
              "    }\n",
              "</style>\n",
              "<table border=\"1\" class=\"dataframe\">\n",
              "  <thead>\n",
              "    <tr style=\"text-align: right;\">\n",
              "      <th></th>\n",
              "      <th>0</th>\n",
              "      <th>1</th>\n",
              "      <th>2</th>\n",
              "      <th>3</th>\n",
              "      <th>4</th>\n",
              "      <th>5</th>\n",
              "      <th>6</th>\n",
              "      <th>7</th>\n",
              "      <th>8</th>\n",
              "      <th>9</th>\n",
              "      <th>...</th>\n",
              "      <th>153</th>\n",
              "      <th>154</th>\n",
              "      <th>155</th>\n",
              "      <th>156</th>\n",
              "      <th>157</th>\n",
              "      <th>158</th>\n",
              "      <th>159</th>\n",
              "      <th>160</th>\n",
              "      <th>161</th>\n",
              "      <th>labels</th>\n",
              "    </tr>\n",
              "  </thead>\n",
              "  <tbody>\n",
              "    <tr>\n",
              "      <th>0</th>\n",
              "      <td>0.044660</td>\n",
              "      <td>0.796911</td>\n",
              "      <td>0.805765</td>\n",
              "      <td>0.797193</td>\n",
              "      <td>0.793657</td>\n",
              "      <td>0.807335</td>\n",
              "      <td>0.813584</td>\n",
              "      <td>0.798822</td>\n",
              "      <td>0.840821</td>\n",
              "      <td>0.889179</td>\n",
              "      <td>...</td>\n",
              "      <td>5.245785e-11</td>\n",
              "      <td>4.875256e-11</td>\n",
              "      <td>4.612075e-11</td>\n",
              "      <td>4.415840e-11</td>\n",
              "      <td>4.269685e-11</td>\n",
              "      <td>4.164807e-11</td>\n",
              "      <td>4.088695e-11</td>\n",
              "      <td>4.039629e-11</td>\n",
              "      <td>4.009137e-11</td>\n",
              "      <td>1</td>\n",
              "    </tr>\n",
              "    <tr>\n",
              "      <th>1</th>\n",
              "      <td>0.047142</td>\n",
              "      <td>0.811304</td>\n",
              "      <td>0.818460</td>\n",
              "      <td>0.811047</td>\n",
              "      <td>0.809669</td>\n",
              "      <td>0.821628</td>\n",
              "      <td>0.815442</td>\n",
              "      <td>0.788887</td>\n",
              "      <td>0.830039</td>\n",
              "      <td>0.878441</td>\n",
              "      <td>...</td>\n",
              "      <td>8.605178e-09</td>\n",
              "      <td>8.388205e-09</td>\n",
              "      <td>8.075597e-09</td>\n",
              "      <td>8.550305e-09</td>\n",
              "      <td>8.726810e-09</td>\n",
              "      <td>8.550608e-09</td>\n",
              "      <td>8.595045e-09</td>\n",
              "      <td>7.986999e-09</td>\n",
              "      <td>8.400312e-09</td>\n",
              "      <td>1</td>\n",
              "    </tr>\n",
              "    <tr>\n",
              "      <th>2</th>\n",
              "      <td>0.047425</td>\n",
              "      <td>0.787183</td>\n",
              "      <td>0.782049</td>\n",
              "      <td>0.740005</td>\n",
              "      <td>0.750662</td>\n",
              "      <td>0.764455</td>\n",
              "      <td>0.794102</td>\n",
              "      <td>0.791748</td>\n",
              "      <td>0.813907</td>\n",
              "      <td>0.838001</td>\n",
              "      <td>...</td>\n",
              "      <td>3.851564e-11</td>\n",
              "      <td>3.410677e-11</td>\n",
              "      <td>3.083212e-11</td>\n",
              "      <td>2.860433e-11</td>\n",
              "      <td>2.696793e-11</td>\n",
              "      <td>2.573537e-11</td>\n",
              "      <td>2.497816e-11</td>\n",
              "      <td>1.994450e-11</td>\n",
              "      <td>7.712622e-12</td>\n",
              "      <td>1</td>\n",
              "    </tr>\n",
              "    <tr>\n",
              "      <th>3</th>\n",
              "      <td>0.034333</td>\n",
              "      <td>0.834362</td>\n",
              "      <td>0.832510</td>\n",
              "      <td>0.818167</td>\n",
              "      <td>0.871688</td>\n",
              "      <td>0.874627</td>\n",
              "      <td>0.875385</td>\n",
              "      <td>0.856701</td>\n",
              "      <td>0.813531</td>\n",
              "      <td>0.836067</td>\n",
              "      <td>...</td>\n",
              "      <td>5.273030e-11</td>\n",
              "      <td>4.878389e-11</td>\n",
              "      <td>4.598941e-11</td>\n",
              "      <td>4.391190e-11</td>\n",
              "      <td>4.236640e-11</td>\n",
              "      <td>4.125524e-11</td>\n",
              "      <td>4.044916e-11</td>\n",
              "      <td>3.992722e-11</td>\n",
              "      <td>3.960414e-11</td>\n",
              "      <td>0</td>\n",
              "    </tr>\n",
              "    <tr>\n",
              "      <th>4</th>\n",
              "      <td>0.038231</td>\n",
              "      <td>0.857938</td>\n",
              "      <td>0.854511</td>\n",
              "      <td>0.842768</td>\n",
              "      <td>0.902083</td>\n",
              "      <td>0.883904</td>\n",
              "      <td>0.877007</td>\n",
              "      <td>0.819352</td>\n",
              "      <td>0.789198</td>\n",
              "      <td>0.837028</td>\n",
              "      <td>...</td>\n",
              "      <td>1.721167e-08</td>\n",
              "      <td>1.736957e-08</td>\n",
              "      <td>1.683692e-08</td>\n",
              "      <td>1.752589e-08</td>\n",
              "      <td>1.754852e-08</td>\n",
              "      <td>1.619338e-08</td>\n",
              "      <td>1.781451e-08</td>\n",
              "      <td>1.821153e-08</td>\n",
              "      <td>1.664945e-08</td>\n",
              "      <td>0</td>\n",
              "    </tr>\n",
              "  </tbody>\n",
              "</table>\n",
              "<p>5 rows × 163 columns</p>\n",
              "</div>\n",
              "    <div class=\"colab-df-buttons\">\n",
              "\n",
              "  <div class=\"colab-df-container\">\n",
              "    <button class=\"colab-df-convert\" onclick=\"convertToInteractive('df-356818a2-8f5e-4a0c-941c-8b8181394962')\"\n",
              "            title=\"Convert this dataframe to an interactive table.\"\n",
              "            style=\"display:none;\">\n",
              "\n",
              "  <svg xmlns=\"http://www.w3.org/2000/svg\" height=\"24px\" viewBox=\"0 -960 960 960\">\n",
              "    <path d=\"M120-120v-720h720v720H120Zm60-500h600v-160H180v160Zm220 220h160v-160H400v160Zm0 220h160v-160H400v160ZM180-400h160v-160H180v160Zm440 0h160v-160H620v160ZM180-180h160v-160H180v160Zm440 0h160v-160H620v160Z\"/>\n",
              "  </svg>\n",
              "    </button>\n",
              "\n",
              "  <style>\n",
              "    .colab-df-container {\n",
              "      display:flex;\n",
              "      gap: 12px;\n",
              "    }\n",
              "\n",
              "    .colab-df-convert {\n",
              "      background-color: #E8F0FE;\n",
              "      border: none;\n",
              "      border-radius: 50%;\n",
              "      cursor: pointer;\n",
              "      display: none;\n",
              "      fill: #1967D2;\n",
              "      height: 32px;\n",
              "      padding: 0 0 0 0;\n",
              "      width: 32px;\n",
              "    }\n",
              "\n",
              "    .colab-df-convert:hover {\n",
              "      background-color: #E2EBFA;\n",
              "      box-shadow: 0px 1px 2px rgba(60, 64, 67, 0.3), 0px 1px 3px 1px rgba(60, 64, 67, 0.15);\n",
              "      fill: #174EA6;\n",
              "    }\n",
              "\n",
              "    .colab-df-buttons div {\n",
              "      margin-bottom: 4px;\n",
              "    }\n",
              "\n",
              "    [theme=dark] .colab-df-convert {\n",
              "      background-color: #3B4455;\n",
              "      fill: #D2E3FC;\n",
              "    }\n",
              "\n",
              "    [theme=dark] .colab-df-convert:hover {\n",
              "      background-color: #434B5C;\n",
              "      box-shadow: 0px 1px 3px 1px rgba(0, 0, 0, 0.15);\n",
              "      filter: drop-shadow(0px 1px 2px rgba(0, 0, 0, 0.3));\n",
              "      fill: #FFFFFF;\n",
              "    }\n",
              "  </style>\n",
              "\n",
              "    <script>\n",
              "      const buttonEl =\n",
              "        document.querySelector('#df-356818a2-8f5e-4a0c-941c-8b8181394962 button.colab-df-convert');\n",
              "      buttonEl.style.display =\n",
              "        google.colab.kernel.accessAllowed ? 'block' : 'none';\n",
              "\n",
              "      async function convertToInteractive(key) {\n",
              "        const element = document.querySelector('#df-356818a2-8f5e-4a0c-941c-8b8181394962');\n",
              "        const dataTable =\n",
              "          await google.colab.kernel.invokeFunction('convertToInteractive',\n",
              "                                                    [key], {});\n",
              "        if (!dataTable) return;\n",
              "\n",
              "        const docLinkHtml = 'Like what you see? Visit the ' +\n",
              "          '<a target=\"_blank\" href=https://colab.research.google.com/notebooks/data_table.ipynb>data table notebook</a>'\n",
              "          + ' to learn more about interactive tables.';\n",
              "        element.innerHTML = '';\n",
              "        dataTable['output_type'] = 'display_data';\n",
              "        await google.colab.output.renderOutput(dataTable, element);\n",
              "        const docLink = document.createElement('div');\n",
              "        docLink.innerHTML = docLinkHtml;\n",
              "        element.appendChild(docLink);\n",
              "      }\n",
              "    </script>\n",
              "  </div>\n",
              "\n",
              "\n",
              "<div id=\"df-91dc59a9-ebf0-4515-8834-54918d90b3ed\">\n",
              "  <button class=\"colab-df-quickchart\" onclick=\"quickchart('df-91dc59a9-ebf0-4515-8834-54918d90b3ed')\"\n",
              "            title=\"Suggest charts.\"\n",
              "            style=\"display:none;\">\n",
              "\n",
              "<svg xmlns=\"http://www.w3.org/2000/svg\" height=\"24px\"viewBox=\"0 0 24 24\"\n",
              "     width=\"24px\">\n",
              "    <g>\n",
              "        <path d=\"M19 3H5c-1.1 0-2 .9-2 2v14c0 1.1.9 2 2 2h14c1.1 0 2-.9 2-2V5c0-1.1-.9-2-2-2zM9 17H7v-7h2v7zm4 0h-2V7h2v10zm4 0h-2v-4h2v4z\"/>\n",
              "    </g>\n",
              "</svg>\n",
              "  </button>\n",
              "\n",
              "<style>\n",
              "  .colab-df-quickchart {\n",
              "      --bg-color: #E8F0FE;\n",
              "      --fill-color: #1967D2;\n",
              "      --hover-bg-color: #E2EBFA;\n",
              "      --hover-fill-color: #174EA6;\n",
              "      --disabled-fill-color: #AAA;\n",
              "      --disabled-bg-color: #DDD;\n",
              "  }\n",
              "\n",
              "  [theme=dark] .colab-df-quickchart {\n",
              "      --bg-color: #3B4455;\n",
              "      --fill-color: #D2E3FC;\n",
              "      --hover-bg-color: #434B5C;\n",
              "      --hover-fill-color: #FFFFFF;\n",
              "      --disabled-bg-color: #3B4455;\n",
              "      --disabled-fill-color: #666;\n",
              "  }\n",
              "\n",
              "  .colab-df-quickchart {\n",
              "    background-color: var(--bg-color);\n",
              "    border: none;\n",
              "    border-radius: 50%;\n",
              "    cursor: pointer;\n",
              "    display: none;\n",
              "    fill: var(--fill-color);\n",
              "    height: 32px;\n",
              "    padding: 0;\n",
              "    width: 32px;\n",
              "  }\n",
              "\n",
              "  .colab-df-quickchart:hover {\n",
              "    background-color: var(--hover-bg-color);\n",
              "    box-shadow: 0 1px 2px rgba(60, 64, 67, 0.3), 0 1px 3px 1px rgba(60, 64, 67, 0.15);\n",
              "    fill: var(--button-hover-fill-color);\n",
              "  }\n",
              "\n",
              "  .colab-df-quickchart-complete:disabled,\n",
              "  .colab-df-quickchart-complete:disabled:hover {\n",
              "    background-color: var(--disabled-bg-color);\n",
              "    fill: var(--disabled-fill-color);\n",
              "    box-shadow: none;\n",
              "  }\n",
              "\n",
              "  .colab-df-spinner {\n",
              "    border: 2px solid var(--fill-color);\n",
              "    border-color: transparent;\n",
              "    border-bottom-color: var(--fill-color);\n",
              "    animation:\n",
              "      spin 1s steps(1) infinite;\n",
              "  }\n",
              "\n",
              "  @keyframes spin {\n",
              "    0% {\n",
              "      border-color: transparent;\n",
              "      border-bottom-color: var(--fill-color);\n",
              "      border-left-color: var(--fill-color);\n",
              "    }\n",
              "    20% {\n",
              "      border-color: transparent;\n",
              "      border-left-color: var(--fill-color);\n",
              "      border-top-color: var(--fill-color);\n",
              "    }\n",
              "    30% {\n",
              "      border-color: transparent;\n",
              "      border-left-color: var(--fill-color);\n",
              "      border-top-color: var(--fill-color);\n",
              "      border-right-color: var(--fill-color);\n",
              "    }\n",
              "    40% {\n",
              "      border-color: transparent;\n",
              "      border-right-color: var(--fill-color);\n",
              "      border-top-color: var(--fill-color);\n",
              "    }\n",
              "    60% {\n",
              "      border-color: transparent;\n",
              "      border-right-color: var(--fill-color);\n",
              "    }\n",
              "    80% {\n",
              "      border-color: transparent;\n",
              "      border-right-color: var(--fill-color);\n",
              "      border-bottom-color: var(--fill-color);\n",
              "    }\n",
              "    90% {\n",
              "      border-color: transparent;\n",
              "      border-bottom-color: var(--fill-color);\n",
              "    }\n",
              "  }\n",
              "</style>\n",
              "\n",
              "  <script>\n",
              "    async function quickchart(key) {\n",
              "      const quickchartButtonEl =\n",
              "        document.querySelector('#' + key + ' button');\n",
              "      quickchartButtonEl.disabled = true;  // To prevent multiple clicks.\n",
              "      quickchartButtonEl.classList.add('colab-df-spinner');\n",
              "      try {\n",
              "        const charts = await google.colab.kernel.invokeFunction(\n",
              "            'suggestCharts', [key], {});\n",
              "      } catch (error) {\n",
              "        console.error('Error during call to suggestCharts:', error);\n",
              "      }\n",
              "      quickchartButtonEl.classList.remove('colab-df-spinner');\n",
              "      quickchartButtonEl.classList.add('colab-df-quickchart-complete');\n",
              "    }\n",
              "    (() => {\n",
              "      let quickchartButtonEl =\n",
              "        document.querySelector('#df-91dc59a9-ebf0-4515-8834-54918d90b3ed button');\n",
              "      quickchartButtonEl.style.display =\n",
              "        google.colab.kernel.accessAllowed ? 'block' : 'none';\n",
              "    })();\n",
              "  </script>\n",
              "</div>\n",
              "    </div>\n",
              "  </div>\n"
            ]
          },
          "metadata": {},
          "execution_count": 28
        }
      ]
    },
    {
      "cell_type": "code",
      "source": [
        "import pandas as pd\n",
        "\n",
        "# Load your data\n",
        "data_frame1 = pd.read_csv('concatenated_features2.csv')\n",
        "data_frame2 = pd.read_csv('features3.csv')\n",
        "\n",
        "# Concatenate your data\n",
        "concatenated_data = pd.concat([data_frame1, data_frame2])\n",
        "\n",
        "# If you want to reset the index (optional)\n",
        "concatenated_data.reset_index(drop=True, inplace=True)\n",
        "\n",
        "# Save the new concatenated data\n",
        "concatenated_data.to_csv('concatenated_features3.csv', index=False)\n"
      ],
      "metadata": {
        "id": "7XWJ2FDPvYDI"
      },
      "execution_count": null,
      "outputs": []
    },
    {
      "cell_type": "code",
      "source": [
        "concatenated_data.shape"
      ],
      "metadata": {
        "colab": {
          "base_uri": "https://localhost:8080/"
        },
        "id": "aFbASAZv2M95",
        "outputId": "01abd79c-0ec9-4cab-d4e8-44c7afffe86c"
      },
      "execution_count": null,
      "outputs": [
        {
          "output_type": "execute_result",
          "data": {
            "text/plain": [
              "(426, 163)"
            ]
          },
          "metadata": {},
          "execution_count": 163
        }
      ]
    },
    {
      "cell_type": "code",
      "source": [
        "X = concatenated_data.iloc[: ,:-1].values\n",
        "Y = concatenated_data['labels'].values"
      ],
      "metadata": {
        "execution": {
          "iopub.status.busy": "2023-10-20T10:57:55.038405Z",
          "iopub.execute_input": "2023-10-20T10:57:55.038766Z",
          "iopub.status.idle": "2023-10-20T10:57:55.057374Z",
          "shell.execute_reply.started": "2023-10-20T10:57:55.038738Z",
          "shell.execute_reply": "2023-10-20T10:57:55.056517Z"
        },
        "trusted": true,
        "id": "O6DzFdv8xIcD"
      },
      "execution_count": null,
      "outputs": []
    },
    {
      "cell_type": "code",
      "source": [
        "X.shape\n"
      ],
      "metadata": {
        "execution": {
          "iopub.status.busy": "2023-10-20T10:57:59.853196Z",
          "iopub.execute_input": "2023-10-20T10:57:59.853517Z",
          "iopub.status.idle": "2023-10-20T10:57:59.908004Z",
          "shell.execute_reply.started": "2023-10-20T10:57:59.853489Z",
          "shell.execute_reply": "2023-10-20T10:57:59.907246Z"
        },
        "trusted": true,
        "colab": {
          "base_uri": "https://localhost:8080/"
        },
        "id": "jCHGxpRsxIcD",
        "outputId": "645f872c-4782-4681-c5fc-01cd31a5c2c7"
      },
      "execution_count": null,
      "outputs": [
        {
          "output_type": "execute_result",
          "data": {
            "text/plain": [
              "(426, 162)"
            ]
          },
          "metadata": {},
          "execution_count": 162
        }
      ]
    },
    {
      "cell_type": "code",
      "source": [
        "# splitting data\n",
        "x_train, x_test, y_train, y_test = train_test_split(X, Y, random_state=0, shuffle=True)\n",
        "x_train.shape, y_train.shape, x_test.shape, y_test.shape"
      ],
      "metadata": {
        "colab": {
          "base_uri": "https://localhost:8080/"
        },
        "id": "NcTsJU_VtW36",
        "outputId": "08267b08-0d85-4d52-9de9-e7f197d5be21"
      },
      "execution_count": null,
      "outputs": [
        {
          "output_type": "execute_result",
          "data": {
            "text/plain": [
              "((319, 162), (319,), (107, 162), (107,))"
            ]
          },
          "metadata": {},
          "execution_count": 34
        }
      ]
    },
    {
      "cell_type": "code",
      "source": [
        "# scaling our data with sklearn's Standard scaler\n",
        "scaler = StandardScaler()\n",
        "x_train = scaler.fit_transform(x_train)\n",
        "x_test = scaler.transform(x_test)\n",
        "x_train.shape, y_train.shape, x_test.shape, y_test.shape"
      ],
      "metadata": {
        "colab": {
          "base_uri": "https://localhost:8080/"
        },
        "id": "Qur8rhxztZ0i",
        "outputId": "84531dc2-aedb-43ba-c0db-98e340766f21"
      },
      "execution_count": null,
      "outputs": [
        {
          "output_type": "execute_result",
          "data": {
            "text/plain": [
              "((319, 162), (319,), (107, 162), (107,))"
            ]
          },
          "metadata": {},
          "execution_count": 35
        }
      ]
    },
    {
      "cell_type": "code",
      "source": [
        "import joblib\n",
        "\n",
        "# ... (after fitting the scaler on the training data)\n",
        "joblib.dump(scaler, 'scaler_filename.pkl')  # Save the scaler to a file"
      ],
      "metadata": {
        "colab": {
          "base_uri": "https://localhost:8080/"
        },
        "id": "RRbuIYsaKGCr",
        "outputId": "6a6cde88-63a6-41bb-8b8c-d71e0e93f1cc"
      },
      "execution_count": null,
      "outputs": [
        {
          "output_type": "execute_result",
          "data": {
            "text/plain": [
              "['scaler_filename.pkl']"
            ]
          },
          "metadata": {},
          "execution_count": 137
        }
      ]
    },
    {
      "cell_type": "code",
      "source": [
        "# making our data compatible to model.\n",
        "x_train = np.expand_dims(x_train, axis=2)\n",
        "x_test = np.expand_dims(x_test, axis=2)\n",
        "x_train.shape, y_train.shape, x_test.shape, y_test.shape"
      ],
      "metadata": {
        "colab": {
          "base_uri": "https://localhost:8080/"
        },
        "id": "YfR-RwN4Fg1T",
        "outputId": "eacdc1df-4cc6-4bff-dccb-05d7566ef2f3"
      },
      "execution_count": null,
      "outputs": [
        {
          "output_type": "execute_result",
          "data": {
            "text/plain": [
              "((319, 162, 1), (319,), (107, 162, 1), (107,))"
            ]
          },
          "metadata": {},
          "execution_count": 36
        }
      ]
    },
    {
      "cell_type": "code",
      "source": [
        "\n",
        "from keras.models import Sequential\n",
        "from keras.layers import Conv1D, MaxPooling1D, Dropout, Flatten, Dense\n",
        "\n",
        "# Assuming your x_train, y_train, x_test, y_test have been prepared correctly\n",
        "# and your data has been shaped appropriately.\n",
        "\n",
        "model = Sequential()\n",
        "model.add(Conv1D(256, kernel_size=5, strides=1, padding='same', activation='relu', input_shape=(x_train.shape[1], 1)))\n",
        "model.add(MaxPooling1D(pool_size=5, strides=2, padding='same'))\n",
        "\n",
        "model.add(Conv1D(256, kernel_size=5, strides=1, padding='same', activation='relu'))\n",
        "model.add(MaxPooling1D(pool_size=5, strides=2, padding='same'))\n",
        "\n",
        "model.add(Conv1D(128, kernel_size=5, strides=1, padding='same', activation='relu'))\n",
        "model.add(MaxPooling1D(pool_size=5, strides=2, padding='same'))\n",
        "model.add(Dropout(0.2))\n",
        "\n",
        "model.add(Conv1D(64, kernel_size=5, strides=1, padding='same', activation='relu'))\n",
        "model.add(MaxPooling1D(pool_size=5, strides=2, padding='same'))\n",
        "\n",
        "model.add(Flatten())\n",
        "model.add(Dense(units=32, activation='relu'))\n",
        "model.add(Dropout(0.3))\n",
        "\n",
        "# Change this layer for binary classification\n",
        "model.add(Dense(units=1, activation='sigmoid'))  # Changed from 'softmax' to 'sigmoid' and units to 1\n",
        "\n",
        "# Compile the model with binary crossentropy for binary classification\n",
        "model.compile(optimizer='adam', loss='binary_crossentropy', metrics=['accuracy'])\n",
        "\n",
        "model.summary()\n"
      ],
      "metadata": {
        "execution": {
          "iopub.status.busy": "2023-10-20T10:58:04.169269Z",
          "iopub.execute_input": "2023-10-20T10:58:04.169573Z",
          "iopub.status.idle": "2023-10-20T10:58:04.175715Z",
          "shell.execute_reply.started": "2023-10-20T10:58:04.169551Z",
          "shell.execute_reply": "2023-10-20T10:58:04.174815Z"
        },
        "trusted": true,
        "colab": {
          "base_uri": "https://localhost:8080/"
        },
        "id": "RCHAIQqCxIcE",
        "outputId": "8e68b323-38a2-48ab-9900-71150d955370"
      },
      "execution_count": null,
      "outputs": [
        {
          "output_type": "stream",
          "name": "stdout",
          "text": [
            "Model: \"sequential\"\n",
            "_________________________________________________________________\n",
            " Layer (type)                Output Shape              Param #   \n",
            "=================================================================\n",
            " conv1d (Conv1D)             (None, 162, 256)          1536      \n",
            "                                                                 \n",
            " max_pooling1d (MaxPooling1  (None, 81, 256)           0         \n",
            " D)                                                              \n",
            "                                                                 \n",
            " conv1d_1 (Conv1D)           (None, 81, 256)           327936    \n",
            "                                                                 \n",
            " max_pooling1d_1 (MaxPoolin  (None, 41, 256)           0         \n",
            " g1D)                                                            \n",
            "                                                                 \n",
            " conv1d_2 (Conv1D)           (None, 41, 128)           163968    \n",
            "                                                                 \n",
            " max_pooling1d_2 (MaxPoolin  (None, 21, 128)           0         \n",
            " g1D)                                                            \n",
            "                                                                 \n",
            " dropout (Dropout)           (None, 21, 128)           0         \n",
            "                                                                 \n",
            " conv1d_3 (Conv1D)           (None, 21, 64)            41024     \n",
            "                                                                 \n",
            " max_pooling1d_3 (MaxPoolin  (None, 11, 64)            0         \n",
            " g1D)                                                            \n",
            "                                                                 \n",
            " flatten (Flatten)           (None, 704)               0         \n",
            "                                                                 \n",
            " dense (Dense)               (None, 32)                22560     \n",
            "                                                                 \n",
            " dropout_1 (Dropout)         (None, 32)                0         \n",
            "                                                                 \n",
            " dense_1 (Dense)             (None, 1)                 33        \n",
            "                                                                 \n",
            "=================================================================\n",
            "Total params: 557057 (2.13 MB)\n",
            "Trainable params: 557057 (2.13 MB)\n",
            "Non-trainable params: 0 (0.00 Byte)\n",
            "_________________________________________________________________\n"
          ]
        }
      ]
    },
    {
      "cell_type": "code",
      "source": [
        "epochs=50\n",
        "rlrp = ReduceLROnPlateau(monitor='loss', factor=0.4, verbose=0, patience=2, min_lr=0.0000001)\n",
        "history=model.fit(x_train, y_train, batch_size=64, epochs=epochs, validation_data=(x_test, y_test), callbacks=[rlrp])"
      ],
      "metadata": {
        "colab": {
          "base_uri": "https://localhost:8080/"
        },
        "id": "Cua5GE4Y3ZOa",
        "outputId": "2c686d69-0983-4ea3-e46c-dec6d6d7c8ec"
      },
      "execution_count": null,
      "outputs": [
        {
          "output_type": "stream",
          "name": "stdout",
          "text": [
            "Epoch 1/50\n",
            "5/5 [==============================] - 2s 413ms/step - loss: 0.5291 - accuracy: 0.7147 - val_loss: 0.6037 - val_accuracy: 0.6729 - lr: 1.0000e-07\n",
            "Epoch 2/50\n",
            "5/5 [==============================] - 2s 411ms/step - loss: 0.5299 - accuracy: 0.7147 - val_loss: 0.6037 - val_accuracy: 0.6729 - lr: 1.0000e-07\n",
            "Epoch 3/50\n",
            "5/5 [==============================] - 3s 702ms/step - loss: 0.5282 - accuracy: 0.7179 - val_loss: 0.6037 - val_accuracy: 0.6729 - lr: 1.0000e-07\n",
            "Epoch 4/50\n",
            "5/5 [==============================] - 2s 394ms/step - loss: 0.5465 - accuracy: 0.7179 - val_loss: 0.6037 - val_accuracy: 0.6729 - lr: 1.0000e-07\n",
            "Epoch 5/50\n",
            "5/5 [==============================] - 2s 398ms/step - loss: 0.5346 - accuracy: 0.7179 - val_loss: 0.6037 - val_accuracy: 0.6729 - lr: 1.0000e-07\n",
            "Epoch 6/50\n",
            "5/5 [==============================] - 2s 396ms/step - loss: 0.5343 - accuracy: 0.7147 - val_loss: 0.6037 - val_accuracy: 0.6729 - lr: 1.0000e-07\n",
            "Epoch 7/50\n",
            "5/5 [==============================] - 2s 401ms/step - loss: 0.5310 - accuracy: 0.7179 - val_loss: 0.6037 - val_accuracy: 0.6729 - lr: 1.0000e-07\n",
            "Epoch 8/50\n",
            "5/5 [==============================] - 2s 396ms/step - loss: 0.5322 - accuracy: 0.7179 - val_loss: 0.6037 - val_accuracy: 0.6729 - lr: 1.0000e-07\n",
            "Epoch 9/50\n",
            "5/5 [==============================] - 3s 681ms/step - loss: 0.5364 - accuracy: 0.7147 - val_loss: 0.6037 - val_accuracy: 0.6729 - lr: 1.0000e-07\n",
            "Epoch 10/50\n",
            "5/5 [==============================] - 2s 461ms/step - loss: 0.5364 - accuracy: 0.7179 - val_loss: 0.6037 - val_accuracy: 0.6729 - lr: 1.0000e-07\n",
            "Epoch 11/50\n",
            "5/5 [==============================] - 2s 395ms/step - loss: 0.5328 - accuracy: 0.7179 - val_loss: 0.6036 - val_accuracy: 0.6729 - lr: 1.0000e-07\n",
            "Epoch 12/50\n",
            "5/5 [==============================] - 2s 437ms/step - loss: 0.5293 - accuracy: 0.7116 - val_loss: 0.6036 - val_accuracy: 0.6729 - lr: 1.0000e-07\n",
            "Epoch 13/50\n",
            "5/5 [==============================] - 2s 400ms/step - loss: 0.5225 - accuracy: 0.7210 - val_loss: 0.6036 - val_accuracy: 0.6729 - lr: 1.0000e-07\n",
            "Epoch 14/50\n",
            "5/5 [==============================] - 2s 392ms/step - loss: 0.5310 - accuracy: 0.7147 - val_loss: 0.6036 - val_accuracy: 0.6729 - lr: 1.0000e-07\n",
            "Epoch 15/50\n",
            "5/5 [==============================] - 3s 588ms/step - loss: 0.5304 - accuracy: 0.7147 - val_loss: 0.6037 - val_accuracy: 0.6729 - lr: 1.0000e-07\n",
            "Epoch 16/50\n",
            "5/5 [==============================] - 3s 537ms/step - loss: 0.5258 - accuracy: 0.7147 - val_loss: 0.6037 - val_accuracy: 0.6729 - lr: 1.0000e-07\n",
            "Epoch 17/50\n",
            "5/5 [==============================] - 2s 436ms/step - loss: 0.5385 - accuracy: 0.7179 - val_loss: 0.6037 - val_accuracy: 0.6729 - lr: 1.0000e-07\n",
            "Epoch 18/50\n",
            "5/5 [==============================] - 2s 434ms/step - loss: 0.5471 - accuracy: 0.7147 - val_loss: 0.6037 - val_accuracy: 0.6729 - lr: 1.0000e-07\n",
            "Epoch 19/50\n",
            "5/5 [==============================] - 2s 435ms/step - loss: 0.5295 - accuracy: 0.7147 - val_loss: 0.6037 - val_accuracy: 0.6729 - lr: 1.0000e-07\n",
            "Epoch 20/50\n",
            "5/5 [==============================] - 2s 437ms/step - loss: 0.5186 - accuracy: 0.7147 - val_loss: 0.6037 - val_accuracy: 0.6729 - lr: 1.0000e-07\n",
            "Epoch 21/50\n",
            "5/5 [==============================] - 3s 637ms/step - loss: 0.5229 - accuracy: 0.7147 - val_loss: 0.6037 - val_accuracy: 0.6729 - lr: 1.0000e-07\n",
            "Epoch 22/50\n",
            "5/5 [==============================] - 3s 498ms/step - loss: 0.5287 - accuracy: 0.7179 - val_loss: 0.6037 - val_accuracy: 0.6729 - lr: 1.0000e-07\n",
            "Epoch 23/50\n",
            "5/5 [==============================] - 2s 395ms/step - loss: 0.5250 - accuracy: 0.7147 - val_loss: 0.6037 - val_accuracy: 0.6729 - lr: 1.0000e-07\n",
            "Epoch 24/50\n",
            "5/5 [==============================] - 2s 392ms/step - loss: 0.5265 - accuracy: 0.7147 - val_loss: 0.6037 - val_accuracy: 0.6729 - lr: 1.0000e-07\n",
            "Epoch 25/50\n",
            "5/5 [==============================] - 2s 430ms/step - loss: 0.5430 - accuracy: 0.7147 - val_loss: 0.6037 - val_accuracy: 0.6729 - lr: 1.0000e-07\n",
            "Epoch 26/50\n",
            "5/5 [==============================] - 2s 389ms/step - loss: 0.5345 - accuracy: 0.7179 - val_loss: 0.6037 - val_accuracy: 0.6729 - lr: 1.0000e-07\n",
            "Epoch 27/50\n",
            "5/5 [==============================] - 2s 537ms/step - loss: 0.5404 - accuracy: 0.7147 - val_loss: 0.6037 - val_accuracy: 0.6729 - lr: 1.0000e-07\n",
            "Epoch 28/50\n",
            "5/5 [==============================] - 3s 588ms/step - loss: 0.5410 - accuracy: 0.7179 - val_loss: 0.6037 - val_accuracy: 0.6729 - lr: 1.0000e-07\n",
            "Epoch 29/50\n",
            "5/5 [==============================] - 2s 396ms/step - loss: 0.5149 - accuracy: 0.7179 - val_loss: 0.6037 - val_accuracy: 0.6729 - lr: 1.0000e-07\n",
            "Epoch 30/50\n",
            "5/5 [==============================] - 2s 431ms/step - loss: 0.5256 - accuracy: 0.7179 - val_loss: 0.6037 - val_accuracy: 0.6729 - lr: 1.0000e-07\n",
            "Epoch 31/50\n",
            "5/5 [==============================] - 2s 434ms/step - loss: 0.5334 - accuracy: 0.7147 - val_loss: 0.6037 - val_accuracy: 0.6729 - lr: 1.0000e-07\n",
            "Epoch 32/50\n",
            "5/5 [==============================] - 2s 437ms/step - loss: 0.5202 - accuracy: 0.7147 - val_loss: 0.6037 - val_accuracy: 0.6729 - lr: 1.0000e-07\n",
            "Epoch 33/50\n",
            "5/5 [==============================] - 2s 520ms/step - loss: 0.5315 - accuracy: 0.7147 - val_loss: 0.6037 - val_accuracy: 0.6729 - lr: 1.0000e-07\n",
            "Epoch 34/50\n",
            "5/5 [==============================] - 3s 614ms/step - loss: 0.5284 - accuracy: 0.7147 - val_loss: 0.6037 - val_accuracy: 0.6729 - lr: 1.0000e-07\n",
            "Epoch 35/50\n",
            "5/5 [==============================] - 2s 397ms/step - loss: 0.5353 - accuracy: 0.7179 - val_loss: 0.6037 - val_accuracy: 0.6729 - lr: 1.0000e-07\n",
            "Epoch 36/50\n",
            "5/5 [==============================] - 2s 398ms/step - loss: 0.5335 - accuracy: 0.7179 - val_loss: 0.6037 - val_accuracy: 0.6729 - lr: 1.0000e-07\n",
            "Epoch 37/50\n",
            "5/5 [==============================] - 2s 429ms/step - loss: 0.5344 - accuracy: 0.7147 - val_loss: 0.6037 - val_accuracy: 0.6729 - lr: 1.0000e-07\n",
            "Epoch 38/50\n",
            "5/5 [==============================] - 2s 429ms/step - loss: 0.5359 - accuracy: 0.7147 - val_loss: 0.6037 - val_accuracy: 0.6729 - lr: 1.0000e-07\n",
            "Epoch 39/50\n",
            "5/5 [==============================] - 2s 458ms/step - loss: 0.5384 - accuracy: 0.7210 - val_loss: 0.6037 - val_accuracy: 0.6729 - lr: 1.0000e-07\n",
            "Epoch 40/50\n",
            "5/5 [==============================] - 3s 668ms/step - loss: 0.5346 - accuracy: 0.7147 - val_loss: 0.6037 - val_accuracy: 0.6729 - lr: 1.0000e-07\n",
            "Epoch 41/50\n",
            "5/5 [==============================] - 2s 396ms/step - loss: 0.5257 - accuracy: 0.7179 - val_loss: 0.6037 - val_accuracy: 0.6729 - lr: 1.0000e-07\n",
            "Epoch 42/50\n",
            "5/5 [==============================] - 2s 391ms/step - loss: 0.5414 - accuracy: 0.7210 - val_loss: 0.6037 - val_accuracy: 0.6729 - lr: 1.0000e-07\n",
            "Epoch 43/50\n",
            "5/5 [==============================] - 2s 392ms/step - loss: 0.5461 - accuracy: 0.7147 - val_loss: 0.6037 - val_accuracy: 0.6729 - lr: 1.0000e-07\n",
            "Epoch 44/50\n",
            "5/5 [==============================] - 2s 390ms/step - loss: 0.5296 - accuracy: 0.7179 - val_loss: 0.6037 - val_accuracy: 0.6729 - lr: 1.0000e-07\n",
            "Epoch 45/50\n",
            "5/5 [==============================] - 2s 398ms/step - loss: 0.5270 - accuracy: 0.7147 - val_loss: 0.6036 - val_accuracy: 0.6729 - lr: 1.0000e-07\n",
            "Epoch 46/50\n",
            "5/5 [==============================] - 3s 682ms/step - loss: 0.5191 - accuracy: 0.7179 - val_loss: 0.6036 - val_accuracy: 0.6729 - lr: 1.0000e-07\n",
            "Epoch 47/50\n",
            "5/5 [==============================] - 2s 451ms/step - loss: 0.5287 - accuracy: 0.7179 - val_loss: 0.6036 - val_accuracy: 0.6729 - lr: 1.0000e-07\n",
            "Epoch 48/50\n",
            "5/5 [==============================] - 2s 392ms/step - loss: 0.5247 - accuracy: 0.7147 - val_loss: 0.6036 - val_accuracy: 0.6729 - lr: 1.0000e-07\n",
            "Epoch 49/50\n",
            "5/5 [==============================] - 2s 395ms/step - loss: 0.5338 - accuracy: 0.7147 - val_loss: 0.6036 - val_accuracy: 0.6729 - lr: 1.0000e-07\n",
            "Epoch 50/50\n",
            "5/5 [==============================] - 2s 392ms/step - loss: 0.5354 - accuracy: 0.7179 - val_loss: 0.6036 - val_accuracy: 0.6729 - lr: 1.0000e-07\n"
          ]
        }
      ]
    },
    {
      "cell_type": "code",
      "source": [
        "print(\"Accuracy of our model on test data : \" , model.evaluate(x_test,y_test)[1]*100 , \"%\")\n",
        "\n",
        "epochs = [i for i in range(epochs)]\n",
        "fig , ax = plt.subplots(1,2)\n",
        "train_acc = history.history['accuracy']\n",
        "train_loss = history.history['loss']\n",
        "test_acc = history.history['val_accuracy']\n",
        "test_loss = history.history['val_loss']\n",
        "\n",
        "fig.set_size_inches(20,6)\n",
        "ax[0].plot(epochs , train_loss , label = 'Training Loss')\n",
        "ax[0].plot(epochs , test_loss , label = 'Testing Loss')\n",
        "ax[0].set_title('Training & Testing Loss')\n",
        "ax[0].legend()\n",
        "ax[0].set_xlabel(\"Epochs\")\n",
        "\n",
        "ax[1].plot(epochs , train_acc , label = 'Training Accuracy')\n",
        "ax[1].plot(epochs , test_acc , label = 'Testing Accuracy')\n",
        "ax[1].set_title('Training & Testing Accuracy')\n",
        "ax[1].legend()\n",
        "ax[1].set_xlabel(\"Epochs\")\n",
        "plt.show()"
      ],
      "metadata": {
        "colab": {
          "base_uri": "https://localhost:8080/",
          "height": 532
        },
        "id": "bHOxMQyl3l-o",
        "outputId": "c5dd78f7-23cb-4f17-c719-145719af60d9"
      },
      "execution_count": null,
      "outputs": [
        {
          "output_type": "stream",
          "name": "stdout",
          "text": [
            "4/4 [==============================] - 0s 36ms/step - loss: 0.6036 - accuracy: 0.6729\n",
            "Accuracy of our model on test data :  67.2897219657898 %\n"
          ]
        },
        {
          "output_type": "display_data",
          "data": {
            "text/plain": [
              "<Figure size 2000x600 with 2 Axes>"
            ],
            "image/png": "[encoded data removed]"
          },
          "metadata": {}
        }
      ]
    },
    {
      "cell_type": "code",
      "source": [
        "pred_test = model.predict(x_test)"
      ],
      "metadata": {
        "colab": {
          "base_uri": "https://localhost:8080/"
        },
        "id": "ZVL0Vf5r51QS",
        "outputId": "52c6cac4-4fdb-4bc0-ff97-4391f7541e6b"
      },
      "execution_count": null,
      "outputs": [
        {
          "output_type": "stream",
          "name": "stdout",
          "text": [
            "4/4 [==============================] - 0s 40ms/step\n"
          ]
        }
      ]
    },
    {
      "cell_type": "code",
      "source": [
        "pred_test[0]"
      ],
      "metadata": {
        "colab": {
          "base_uri": "https://localhost:8080/"
        },
        "id": "yWpo6j-t7fz4",
        "outputId": "efd8aff0-a045-4f32-83ba-8954eaafed8a"
      },
      "execution_count": null,
      "outputs": [
        {
          "output_type": "execute_result",
          "data": {
            "text/plain": [
              "array([0.23920977], dtype=float32)"
            ]
          },
          "metadata": {},
          "execution_count": 145
        }
      ]
    },
    {
      "cell_type": "code",
      "source": [],
      "metadata": {
        "id": "6zi5bYzV7s3i"
      },
      "execution_count": null,
      "outputs": []
    },
    {
      "cell_type": "code",
      "source": [
        "def Thresholding(Y_pred, threshold):\n",
        "  Y_pred2 = []\n",
        "  print(\"Y_pred: \", Y_pred.shape)\n",
        "  for i in range(len(Y_pred)):\n",
        "    if(Y_pred[i] < threshold):\n",
        "      Y_pred2.append(0)\n",
        "    else:\n",
        "      Y_pred2.append(1)\n",
        "\n",
        "  return np.array(Y_pred2)\n"
      ],
      "metadata": {
        "id": "hp19Vltk62aN"
      },
      "execution_count": null,
      "outputs": []
    },
    {
      "cell_type": "code",
      "source": [
        "import pandas as pd\n",
        "import seaborn as sns\n",
        "import matplotlib.pyplot as plt\n",
        "from sklearn.metrics import confusion_matrix\n",
        "\n",
        "def plot_confusion_matrix(y_true, y_pred, class_labels, figsize=(12, 10)):\n",
        "    \"\"\"\n",
        "    Plots a confusion matrix using seaborn heatmap.\n",
        "\n",
        "    Parameters:\n",
        "    y_true (array): Array of true label values.\n",
        "    y_pred (array): Array of predicted label values.\n",
        "    class_labels (list): List of class labels (str) for the confusion matrix.\n",
        "    figsize (tuple): Tuple representing the figure size (width, height).\n",
        "\n",
        "    Returns:\n",
        "    None\n",
        "    \"\"\"\n",
        "    # Validate that class_labels is a list of strings\n",
        "    if not all(isinstance(label, str) for label in class_labels):\n",
        "        raise ValueError(\"class_labels must be a list of strings representing class names.\")\n",
        "\n",
        "    # Generate the confusion matrix\n",
        "    cm = confusion_matrix(y_true, y_pred)\n",
        "\n",
        "    # Create a DataFrame from the confusion matrix for visualization\n",
        "    cm_df = pd.DataFrame(cm, index=class_labels, columns=class_labels)\n",
        "\n",
        "    # Create a heatmap from the DataFrame\n",
        "    plt.figure(figsize=figsize)\n",
        "    sns.heatmap(cm_df, linecolor='white', cmap='Blues', linewidth=1, annot=True, fmt='d')  # 'd' specifies integer formatting\n",
        "    plt.title('Confusion Matrix', size=20)\n",
        "    plt.xlabel('Predicted Labels', size=14)\n",
        "    plt.ylabel('Actual Labels', size=14)\n",
        "    plt.show()\n",
        "\n",
        "# Usage of the function with your data:\n",
        "\n"
      ],
      "metadata": {
        "id": "aP-3_MKW-p65"
      },
      "execution_count": null,
      "outputs": []
    },
    {
      "cell_type": "code",
      "source": [
        "from sklearn.metrics import classification_report\n",
        "Threshold=0.29292929292929293\n",
        "pred = model.predict(x_train)\n",
        "y_train_X=Thresholding(y_train,Threshold)\n",
        "pred_th =Thresholding(pred,Threshold)\n",
        "y_train_X , pred_th\n"
      ],
      "metadata": {
        "colab": {
          "base_uri": "https://localhost:8080/"
        },
        "id": "23OM84q5FuK1",
        "outputId": "3e9b6fa6-d1b0-4771-dfc5-7c85b2de2945"
      },
      "execution_count": null,
      "outputs": [
        {
          "output_type": "stream",
          "name": "stdout",
          "text": [
            "10/10 [==============================] - 0s 47ms/step\n",
            "Y_pred:  (319,)\n",
            "Y_pred:  (319, 1)\n"
          ]
        },
        {
          "output_type": "execute_result",
          "data": {
            "text/plain": [
              "(array([0, 1, 1, 0, 1, 0, 0, 0, 0, 0, 0, 0, 1, 0, 0, 1, 0, 0, 1, 0, 0, 0,\n",
              "        0, 0, 0, 1, 1, 1, 0, 0, 0, 1, 1, 1, 0, 0, 0, 0, 0, 0, 0, 0, 1, 1,\n",
              "        1, 1, 0, 0, 0, 1, 0, 1, 0, 0, 0, 1, 1, 1, 0, 0, 0, 0, 0, 0, 1, 0,\n",
              "        0, 1, 0, 0, 0, 0, 0, 0, 0, 0, 1, 0, 0, 0, 1, 0, 0, 1, 1, 0, 0, 0,\n",
              "        0, 0, 0, 0, 0, 0, 0, 0, 1, 0, 0, 0, 0, 0, 0, 0, 0, 0, 0, 0, 0, 0,\n",
              "        1, 0, 0, 0, 0, 1, 1, 1, 0, 1, 1, 0, 0, 1, 0, 0, 0, 1, 0, 0, 1, 0,\n",
              "        1, 0, 0, 1, 0, 1, 0, 0, 0, 0, 0, 0, 1, 0, 0, 1, 0, 0, 0, 1, 0, 0,\n",
              "        0, 0, 0, 0, 0, 0, 0, 1, 1, 0, 0, 1, 1, 0, 0, 1, 0, 1, 0, 0, 0, 0,\n",
              "        0, 0, 0, 0, 0, 0, 0, 0, 0, 0, 1, 0, 0, 1, 0, 0, 1, 0, 1, 1, 0, 0,\n",
              "        0, 0, 0, 1, 1, 0, 0, 0, 0, 1, 0, 0, 0, 1, 1, 1, 0, 1, 1, 0, 0, 0,\n",
              "        0, 1, 0, 0, 0, 0, 0, 0, 0, 1, 1, 0, 0, 0, 1, 0, 0, 0, 1, 0, 1, 0,\n",
              "        1, 1, 0, 0, 0, 0, 0, 0, 0, 0, 0, 1, 1, 0, 1, 0, 0, 1, 0, 0, 0, 0,\n",
              "        0, 0, 0, 0, 0, 1, 1, 0, 1, 0, 0, 0, 0, 0, 0, 0, 0, 0, 0, 0, 1, 1,\n",
              "        0, 1, 0, 0, 1, 0, 0, 1, 0, 1, 0, 1, 0, 0, 1, 0, 0, 0, 0, 0, 0, 0,\n",
              "        0, 1, 1, 0, 1, 0, 1, 1, 0, 0, 1]),\n",
              " array([1, 1, 1, 0, 1, 1, 1, 0, 1, 0, 0, 0, 1, 1, 1, 1, 0, 0, 0, 1, 0, 1,\n",
              "        1, 0, 0, 1, 1, 1, 1, 1, 0, 1, 1, 1, 0, 1, 1, 0, 0, 0, 0, 0, 1, 1,\n",
              "        1, 1, 0, 1, 1, 0, 0, 1, 1, 0, 1, 1, 1, 1, 0, 0, 1, 1, 0, 1, 1, 0,\n",
              "        1, 1, 0, 0, 1, 1, 1, 1, 0, 1, 1, 1, 0, 0, 1, 0, 0, 1, 1, 1, 0, 0,\n",
              "        0, 0, 0, 0, 0, 1, 1, 1, 0, 1, 1, 1, 1, 0, 1, 0, 0, 0, 0, 0, 1, 0,\n",
              "        1, 1, 1, 1, 0, 1, 1, 0, 1, 1, 1, 0, 1, 1, 1, 0, 1, 1, 0, 1, 1, 0,\n",
              "        1, 0, 0, 0, 0, 1, 1, 1, 0, 1, 0, 0, 1, 1, 1, 1, 1, 1, 1, 1, 0, 1,\n",
              "        1, 1, 0, 0, 1, 0, 1, 1, 1, 0, 0, 1, 1, 1, 1, 1, 0, 1, 1, 1, 1, 0,\n",
              "        0, 0, 0, 0, 1, 0, 0, 1, 1, 0, 1, 1, 0, 1, 0, 1, 1, 0, 0, 1, 0, 1,\n",
              "        1, 0, 0, 0, 0, 1, 1, 0, 0, 1, 1, 0, 1, 1, 1, 1, 0, 1, 0, 0, 1, 1,\n",
              "        1, 1, 1, 1, 1, 1, 1, 0, 1, 1, 1, 0, 0, 1, 1, 1, 0, 1, 1, 0, 1, 0,\n",
              "        1, 1, 1, 1, 1, 1, 0, 1, 0, 0, 0, 1, 1, 0, 0, 0, 0, 1, 1, 1, 0, 1,\n",
              "        0, 0, 1, 0, 1, 1, 0, 1, 1, 0, 0, 0, 0, 1, 0, 1, 1, 0, 0, 0, 1, 0,\n",
              "        0, 1, 1, 1, 1, 1, 1, 1, 1, 1, 0, 1, 1, 0, 0, 0, 0, 1, 0, 0, 0, 1,\n",
              "        1, 1, 1, 0, 1, 0, 1, 1, 0, 0, 1]))"
            ]
          },
          "metadata": {},
          "execution_count": 135
        }
      ]
    },
    {
      "cell_type": "code",
      "source": [
        "# from sklearn.metrics import classification_report\n",
        "Threshold=0.29292929292929293\n",
        "# pred = model.predict(x_train)\n",
        "# y_train_X=Thresholding(y_test,Threshold)\n",
        "# pred_th =Thresholding(pred,Threshold)\n",
        "class_labels = ['Non-Depressed', 'Depressed']  # Define the labels for your binary classification\n",
        "plot_confusion_matrix(y_train_X, pred_th, class_labels)\n",
        "# print(classification_report(y_train,Thresholding(pred,0.1)))\n",
        "# print(classification_report(y_train,Thresholding(pred,0.2)))\n",
        "# print(classification_report(y_train,Thresholding(pred,0.28)))\n",
        "\n",
        "# print(classification_report(y_train,Thresholding(pred,0.3)))\n",
        "# print(classification_report(y_train,Thresholding(pred,Threshold)))\n",
        "# print(classification_report(y_train,Thresholding(pred,0.37)))\n",
        "# print(classification_report(y_train,Thresholding(pred,0.38)))\n",
        "# print(classification_report(y_train,Thresholding(pred,0.39)))\n",
        "\n",
        "# print(classification_report(y_train,Thresholding(pred,0.4)))\n",
        "# print(classification_report(y_train,Thresholding(pred,0.5)))\n",
        "# print(classification_report(y_train,Thresholding(pred,0.6)))\n",
        "# print(classification_report(y_train,Thresholding(pred,0.7)))\n",
        "# print(classification_report(y_train,Thresholding(pred,0.8)))\n",
        "# print(classification_report(y_train,Thresholding(pred,0.9)))\n",
        "# print(classification_report(y_train,Thresholding(pred,0.95)))\n",
        "# print(classification_report(y_train,Thresholding(pred,0.98)))\n",
        "\n",
        "\n"
      ],
      "metadata": {
        "colab": {
          "base_uri": "https://localhost:8080/",
          "height": 885
        },
        "id": "j381L8uz7Ny4",
        "outputId": "c90fff77-67b5-4f11-972f-6473010125e1"
      },
      "execution_count": null,
      "outputs": [
        {
          "output_type": "display_data",
          "data": {
            "text/plain": [
              "<Figure size 1200x1000 with 2 Axes>"
            ],
            "image/png": "[encoded data removed]"
          },
          "metadata": {}
        }
      ]
    },
    {
      "cell_type": "code",
      "source": [],
      "metadata": {
        "id": "ukMNM0PwEm6w"
      },
      "execution_count": null,
      "outputs": []
    },
    {
      "cell_type": "code",
      "source": [
        "from sklearn.metrics import f1_score\n",
        "import numpy as np\n",
        "import matplotlib.pyplot as plt\n",
        "pred = model.predict(x_train)\n",
        "\n",
        "def find_optimal_threshold(y_true, y_pred_prob, thresholds):\n",
        "    \"\"\"\n",
        "    Iterate over a range of threshold values to find the optimal threshold based on F1 score.\n",
        "\n",
        "    Parameters:\n",
        "    y_true (array): Array of true label values.\n",
        "    y_pred_prob (array): Array of predicted probabilities.\n",
        "    thresholds (list/np.ndarray): An array of threshold values to test.\n",
        "\n",
        "    Returns:\n",
        "    A tuple containing the optimal threshold and the plot of F1 scores.\n",
        "    \"\"\"\n",
        "    # Initialize variables to store the scores and the best threshold\n",
        "    f1_scores = []\n",
        "    best_threshold = None\n",
        "    max_f1 = 0\n",
        "\n",
        "    # Iterate over all thresholds and calculate F1 score for each\n",
        "    for threshold in thresholds:\n",
        "        # Apply threshold to positive probabilities to create binary predictions\n",
        "        y_pred = (y_pred_prob >= threshold).astype(int)\n",
        "\n",
        "        # Calculate and store the F1 score\n",
        "        score = f1_score(y_true, y_pred)\n",
        "        f1_scores.append(score)\n",
        "\n",
        "        # If the current score is better than the previous best, update the best threshold\n",
        "        if score > max_f1:\n",
        "            max_f1 = score\n",
        "            best_threshold = threshold\n",
        "\n",
        "    # Plot F1 scores vs. thresholds\n",
        "    plt.figure(figsize=(10, 6))\n",
        "    plt.plot(thresholds, f1_scores, marker='o', linestyle='-', color='b')\n",
        "    plt.title('F1 Score vs. Threshold')\n",
        "    plt.xlabel('Threshold')\n",
        "    plt.ylabel('F1 Score')\n",
        "    plt.grid(True)\n",
        "    plt.show()\n",
        "\n",
        "    return best_threshold, max_f1\n",
        "\n",
        "# Usage of the function with your data:\n",
        "# pred is the array of predicted probabilities from your model\n",
        "thresholds = np.linspace(0, 1, 100)  # Creates 100 points from 0 to 1\n",
        "optimal_threshold, max_f1 = find_optimal_threshold(y_train, pred, thresholds)\n",
        "\n",
        "print(f\"Optimal Threshold: {optimal_threshold}\")\n",
        "print(f\"Maximum F1 Score: {max_f1}\")\n"
      ],
      "metadata": {
        "colab": {
          "base_uri": "https://localhost:8080/",
          "height": 616
        },
        "id": "UQbBOF2QArnu",
        "outputId": "47b2cf00-a9ca-4a51-9911-5b1dc33b1245"
      },
      "execution_count": null,
      "outputs": [
        {
          "output_type": "stream",
          "name": "stdout",
          "text": [
            "10/10 [==============================] - 0s 45ms/step\n"
          ]
        },
        {
          "output_type": "display_data",
          "data": {
            "text/plain": [
              "<Figure size 1000x600 with 1 Axes>"
            ],
            "image/png": "[encoded data removed]"
          },
          "metadata": {}
        },
        {
          "output_type": "stream",
          "name": "stdout",
          "text": [
            "Optimal Threshold: 0.29292929292929293\n",
            "Maximum F1 Score: 0.5611510791366907\n"
          ]
        }
      ]
    },
    {
      "cell_type": "code",
      "source": [
        "df = pd.DataFrame(columns=['Predicted Labels', 'Actual Labels'])\n",
        "df['Predicted Labels'] = y_pred.flatten()\n",
        "df['Actual Labels'] = y_test.flatten()\n",
        "\n",
        "df.head(10)"
      ],
      "metadata": {
        "id": "DrnQOTAz5oxn"
      },
      "execution_count": null,
      "outputs": []
    },
    {
      "cell_type": "code",
      "source": [
        "# save model structure in jason file\n",
        "model_json = model.to_json()\n",
        "with open(\"depression_model_using_wav_audio.json\", \"w\") as json_file:\n",
        "    json_file.write(model_json)\n",
        "\n",
        "# save trained model weight in .h5 file\n",
        "model.save_weights('depression_model_using_wav_audio.h5')"
      ],
      "metadata": {
        "id": "GVyZoeopCv5L"
      },
      "execution_count": null,
      "outputs": []
    },
    {
      "cell_type": "code",
      "source": [
        "from tensorflow.keras.models import load_model\n",
        "\n",
        "model_path = 'my_model.h5'\n",
        "model = load_model(model_path)\n"
      ],
      "metadata": {
        "id": "VRfIeTd9Jbl7"
      },
      "execution_count": null,
      "outputs": []
    },
    {
      "cell_type": "code",
      "source": [
        "pred_test = model.predict(x_test)\n",
        "\n"
      ],
      "metadata": {
        "execution": {
          "iopub.status.busy": "2023-10-20T11:02:41.467564Z",
          "iopub.execute_input": "2023-10-20T11:02:41.467873Z",
          "iopub.status.idle": "2023-10-20T11:02:41.915657Z",
          "shell.execute_reply.started": "2023-10-20T11:02:41.467847Z",
          "shell.execute_reply": "2023-10-20T11:02:41.914900Z"
        },
        "trusted": true,
        "colab": {
          "base_uri": "https://localhost:8080/"
        },
        "id": "5mV9OY3exIcF",
        "outputId": "8d7561ac-639c-4446-bba0-f07662b41687"
      },
      "execution_count": null,
      "outputs": [
        {
          "output_type": "stream",
          "name": "stdout",
          "text": [
            "1/1 [==============================] - 0s 135ms/step\n"
          ]
        }
      ]
    },
    {
      "cell_type": "code",
      "source": [
        "pred_test[0]"
      ],
      "metadata": {
        "execution": {
          "iopub.status.busy": "2023-10-20T11:03:19.577046Z",
          "iopub.execute_input": "2023-10-20T11:03:19.577365Z",
          "iopub.status.idle": "2023-10-20T11:03:19.632827Z",
          "shell.execute_reply.started": "2023-10-20T11:03:19.577340Z",
          "shell.execute_reply": "2023-10-20T11:03:19.632054Z"
        },
        "trusted": true,
        "colab": {
          "base_uri": "https://localhost:8080/"
        },
        "id": "pn0h0MZMxIcF",
        "outputId": "26c70c72-a8eb-4c55-c797-5a553594dbb5"
      },
      "execution_count": null,
      "outputs": [
        {
          "output_type": "execute_result",
          "data": {
            "text/plain": [
              "array([0.23920977], dtype=float32)"
            ]
          },
          "metadata": {},
          "execution_count": 144
        }
      ]
    },
    {
      "cell_type": "code",
      "source": [
        "emotions = ['disgust','happy','sad', 'neutral' ,'fear','angry']\n"
      ],
      "metadata": {
        "id": "Fa6EyrhqxIcF"
      },
      "execution_count": null,
      "outputs": []
    },
    {
      "cell_type": "code",
      "source": [
        "import numpy as np\n",
        "\n",
        "# 'pred_test' is the array you got from 'model.predict(x_test)'\n",
        "for idx, prediction in enumerate(pred_test):\n",
        "    print(f\"Sample {idx+1} predictions:\")\n",
        "    for emotion, probability in zip(emotions, prediction):\n",
        "        print(f\"{emotion}: {probability:.5f}\")  # '.5f' for 5 decimal precision, adjust as needed\n",
        "    print(\"\")  # for a new line between samples\n"
      ],
      "metadata": {
        "colab": {
          "base_uri": "https://localhost:8080/"
        },
        "id": "-VOfLAp8crnh",
        "outputId": "e7584b8e-6aa6-44dd-c3fd-5741e09f6a24"
      },
      "execution_count": null,
      "outputs": [
        {
          "output_type": "stream",
          "name": "stdout",
          "text": [
            "Sample 1 predictions:\n",
            "disgust: 0.00203\n",
            "happy: 0.03038\n",
            "sad: 0.03134\n",
            "neutral: 0.50983\n",
            "fear: 0.41979\n",
            "angry: 0.00662\n",
            "\n",
            "Sample 2 predictions:\n",
            "disgust: 0.00120\n",
            "happy: 0.14219\n",
            "sad: 0.04796\n",
            "neutral: 0.06023\n",
            "fear: 0.64181\n",
            "angry: 0.10661\n",
            "\n",
            "Sample 3 predictions:\n",
            "disgust: 0.00000\n",
            "happy: 0.07447\n",
            "sad: 0.00068\n",
            "neutral: 0.00059\n",
            "fear: 0.89091\n",
            "angry: 0.03335\n",
            "\n"
          ]
        }
      ]
    },
    {
      "cell_type": "code",
      "source": [
        "for idx, prediction in enumerate(pred_test):\n",
        "    print(f\"Sample {idx+1} predictions:\")\n",
        "    highest_probability_index = np.argmax(prediction)\n",
        "    dominant_emotion = emotions[highest_probability_index]\n",
        "    print(f\"Dominant emotion: {dominant_emotion} (Probability: {prediction[highest_probability_index]:.5f})\")\n",
        "    print(\"\")  # for a new line between samples\n"
      ],
      "metadata": {
        "colab": {
          "base_uri": "https://localhost:8080/"
        },
        "id": "93AV37JhdWbO",
        "outputId": "f331f6ce-acf4-4f99-886d-9411f4091049"
      },
      "execution_count": null,
      "outputs": [
        {
          "output_type": "stream",
          "name": "stdout",
          "text": [
            "Sample 1 predictions:\n",
            "Dominant emotion: neutral (Probability: 0.50983)\n",
            "\n",
            "Sample 2 predictions:\n",
            "Dominant emotion: fear (Probability: 0.64181)\n",
            "\n",
            "Sample 3 predictions:\n",
            "Dominant emotion: fear (Probability: 0.89091)\n",
            "\n"
          ]
        }
      ]
    },
    {
      "cell_type": "code",
      "source": [
        "import numpy as np\n",
        "\n",
        "# Assuming 'pred_test' is your predictions array\n",
        "# and 'emotions' is your list of emotion labels.\n",
        "\n",
        "# Calculate the mean probabilities across all samples.\n",
        "mean_probabilities = np.mean(pred_test, axis=0)\n",
        "\n",
        "# Create a dictionary of emotions and their average probabilities.\n",
        "average_emotion_probabilities = dict(zip(emotions, mean_probabilities))\n",
        "\n",
        "# Print the average probabilities.\n",
        "for emotion, avg_prob in average_emotion_probabilities.items():\n",
        "    print(f\"Average probability for {emotion}: {avg_prob:.5f}\")  # '.5f' for 5 decimal precision, adjust as needed\n"
      ],
      "metadata": {
        "colab": {
          "base_uri": "https://localhost:8080/"
        },
        "id": "_5_qP2rOdc36",
        "outputId": "b5bfb60c-9194-41ce-c797-8db7f8c972e8"
      },
      "execution_count": null,
      "outputs": [
        {
          "output_type": "stream",
          "name": "stdout",
          "text": [
            "Average probability for disgust: 0.00108\n",
            "Average probability for happy: 0.08235\n",
            "Average probability for sad: 0.02666\n",
            "Average probability for neutral: 0.19022\n",
            "Average probability for fear: 0.65084\n",
            "Average probability for angry: 0.04886\n"
          ]
        }
      ]
    },
    {
      "cell_type": "code",
      "source": [
        "import pandas as pd\n",
        "import numpy as np\n",
        "import joblib\n",
        "import librosa\n",
        "from tensorflow.keras.models import load_model\n",
        "from sklearn.preprocessing import StandardScaler\n",
        "import keras\n",
        "model_path_json = 'depression_model_using_wav_audio.json'\n",
        "model_path = 'depression_model_using_wav_audio.h5'\n",
        "path_of_wav_audio_file='/content/dilshad.wav'\n",
        "path_of_scaler_filename='scaler_filename_dep.pkl'\n",
        "\n",
        "def emotion_model_using_wav_audio(path):\n",
        "  def noise(data):\n",
        "    noise_amp = 0.035*np.random.uniform()*np.amax(data)\n",
        "    data = data + noise_amp*np.random.normal(size=data.shape[0])\n",
        "    return data\n",
        "\n",
        "  def stretch(data, rate=0.8):\n",
        "      return librosa.effects.time_stretch(y=data, rate=rate)\n",
        "\n",
        "\n",
        "  def shift(data):\n",
        "      shift_range = int(np.random.uniform(low=-5, high = 5)*1000)\n",
        "      return np.roll(data, shift_range)\n",
        "\n",
        "  def pitch(data, sampling_rate, n_steps=0.7):  # Changed pitch_factor to n_steps for clarity\n",
        "      return librosa.effects.pitch_shift(y=data, sr=sampling_rate, n_steps=n_steps)\n",
        "\n",
        "\n",
        "  def extract_features(data,sample_rate):\n",
        "      # ZCR\n",
        "      result = np.array([])\n",
        "      zcr = np.mean(librosa.feature.zero_crossing_rate(y=data).T, axis=0)\n",
        "      result=np.hstack((result, zcr)) # stacking horizontally\n",
        "\n",
        "      # Chroma_stft\n",
        "      stft = np.abs(librosa.stft(data))\n",
        "      chroma_stft = np.mean(librosa.feature.chroma_stft(S=stft, sr=sample_rate).T, axis=0)\n",
        "      result = np.hstack((result, chroma_stft)) # stacking horizontally\n",
        "\n",
        "      # MFCC\n",
        "      mfcc = np.mean(librosa.feature.mfcc(y=data, sr=sample_rate).T, axis=0)\n",
        "      result = np.hstack((result, mfcc)) # stacking horizontally\n",
        "\n",
        "      # Root Mean Square Value\n",
        "      rms = np.mean(librosa.feature.rms(y=data).T, axis=0)\n",
        "      result = np.hstack((result, rms)) # stacking horizontally\n",
        "\n",
        "      # MelSpectogram\n",
        "      mel = np.mean(librosa.feature.melspectrogram(y=data, sr=sample_rate).T, axis=0)\n",
        "      result = np.hstack((result, mel)) # stacking horizontally\n",
        "\n",
        "      return result\n",
        "\n",
        "  def get_features(path):\n",
        "      # duration and offset are used to take care of the no audio in start and the ending of each audio files as seen above.\n",
        "      data, sample_rate = librosa.load(path, duration=2.5, offset=0.6)\n",
        "\n",
        "      # without augmentation\n",
        "      res1 = extract_features(data,sample_rate)\n",
        "      result = np.array(res1)\n",
        "\n",
        "      # data with noise\n",
        "      noise_data = noise(data)\n",
        "      res2 = extract_features(noise_data,sample_rate)\n",
        "      result = np.vstack((result, res2)) # stacking vertically\n",
        "\n",
        "      # data with stretching and pitching\n",
        "      new_data= stretch(data)\n",
        "      data_stretch_pitch = pitch(new_data, sample_rate)\n",
        "      res3 = extract_features(data_stretch_pitch,sample_rate)\n",
        "      result = np.vstack((result, res3)) # stacking vertically\n",
        "\n",
        "      return result\n",
        "\n",
        "  X= []\n",
        "  feature = get_features(path)\n",
        "  for ele in feature:\n",
        "      X.append(ele)\n",
        "  print(X)\n",
        "  Features = pd.DataFrame(X)\n",
        "  scaler = joblib.load(path_of_scaler_filename)\n",
        "  x_test = scaler.transform(Features)\n",
        "  x_test = np.expand_dims(x_test, axis=2)\n",
        "  from keras.models import model_from_json\n",
        "  with open(model_path_json, \"r\") as json_file:\n",
        "      model_json = json_file.read()\n",
        "  model = model_from_json(model_json)\n",
        "  model.load_weights(model_path)\n",
        "\n",
        "  pred_test = model.predict(x_test)\n",
        "  Threshold=0.29\n",
        "  print(pred_test)\n",
        "  # if(pred_test>= Threshold):\n",
        "  #     return 1\n",
        "  # else:\n",
        "  #     return 0\n",
        "\n",
        "\n",
        "\n",
        "\n",
        "\n",
        "emotion_model_using_wav_audio(path_of_wav_audio_file)\n",
        "\n",
        "\n",
        "\n",
        "\n"
      ],
      "metadata": {
        "id": "EfIorHKsePv_",
        "colab": {
          "base_uri": "https://localhost:8080/"
        },
        "outputId": "b83fddbf-8845-46cf-8e5b-08b84ea16a8d"
      },
      "execution_count": null,
      "outputs": [
        {
          "output_type": "stream",
          "name": "stdout",
          "text": [
            "[array([ 1.31939923e-01,  4.81229514e-01,  4.93591428e-01,  5.60769916e-01,\n",
            "        6.19068563e-01,  6.23519182e-01,  6.12370670e-01,  6.05483353e-01,\n",
            "        6.03899837e-01,  7.44159758e-01,  6.48446560e-01,  6.32136941e-01,\n",
            "        5.86543977e-01, -4.52991058e+02,  1.04136787e+02, -2.95264359e+01,\n",
            "        2.79714928e+01,  1.20627618e+00,  5.75142860e+00, -1.38688147e+00,\n",
            "       -1.30714598e+01, -2.42378578e+01,  2.93504524e+00,  7.55405426e-01,\n",
            "       -1.25246210e+01, -6.64178371e+00, -1.07452555e+01,  9.33059990e-01,\n",
            "       -6.80066729e+00, -6.65920973e+00, -7.68704510e+00, -6.51006174e+00,\n",
            "       -4.41845512e+00,  1.56220477e-02,  7.37039489e-04,  1.59258590e-04,\n",
            "        3.19598392e-02,  7.41235077e-01,  7.06940532e-01,  6.76031485e-02,\n",
            "        3.19979936e-02,  5.40725648e-01,  3.23551512e+00,  2.63583517e+00,\n",
            "        1.33443609e-01,  1.83582038e-01,  3.51782441e-01,  3.24006915e-01,\n",
            "        1.93430722e-01,  1.45070717e-01,  1.73425600e-01,  3.32195312e-01,\n",
            "        1.20765173e+00,  1.14117181e+00,  6.76196739e-02,  5.62536381e-02,\n",
            "        7.05480635e-01,  9.24421549e-01,  3.78751338e-01,  3.43842283e-02,\n",
            "        4.98900265e-02,  7.77822137e-02,  1.41084744e-02,  1.31338062e-02,\n",
            "        3.64317112e-02,  5.26137091e-02,  9.88811478e-02,  1.58124223e-01,\n",
            "        6.92940801e-02,  1.48861120e-02,  2.52428446e-02,  3.26623283e-02,\n",
            "        9.01940390e-02,  4.16222326e-02,  1.80985872e-02,  7.14707598e-02,\n",
            "        6.16829209e-02,  7.23338649e-02,  6.06567375e-02,  6.79690167e-02,\n",
            "        5.24134487e-02,  4.52361666e-02,  1.60553724e-01,  1.11240059e-01,\n",
            "        3.32060419e-02,  1.54656321e-01,  1.87776178e-01,  4.88119870e-02,\n",
            "        4.31520864e-02,  7.50419199e-02,  4.69530635e-02,  5.09371608e-02,\n",
            "        5.45992553e-02,  1.81985367e-02,  1.94354206e-02,  1.00309970e-02,\n",
            "        7.04368390e-03,  1.68088498e-03,  1.82848657e-03,  2.28575640e-03,\n",
            "        3.84161971e-03,  3.72558809e-03,  1.00060692e-02,  1.07686138e-02,\n",
            "        8.61928612e-03,  1.31172165e-02,  1.31875118e-02,  8.72998964e-03,\n",
            "        4.80380747e-03,  4.83479584e-03,  4.68052551e-03,  3.59565788e-03,\n",
            "        3.13099078e-03,  3.10771912e-03,  3.04964487e-03,  6.73051132e-03,\n",
            "        1.01257423e-02,  1.66696757e-02,  1.23103298e-02,  5.08751906e-03,\n",
            "        3.77233373e-03,  2.50915275e-03,  1.04763417e-03,  1.73015450e-03,\n",
            "        1.07045530e-03,  5.54433209e-04,  7.48939812e-04,  1.00042764e-03,\n",
            "        1.18795945e-03,  1.47550972e-03,  8.85209534e-04,  3.54151416e-04,\n",
            "        3.31558520e-04,  4.60716721e-04,  4.66261466e-04,  5.76024991e-04,\n",
            "        2.44004637e-04,  5.57768100e-04,  5.84456604e-04,  3.01357737e-04,\n",
            "        2.89613410e-04,  4.23200981e-04,  3.24570545e-04,  4.88569320e-04,\n",
            "        4.03948332e-04,  2.41091417e-04,  1.72409505e-04,  1.25954481e-04,\n",
            "        3.40649240e-05,  1.85741919e-05,  1.41073251e-05,  3.03966463e-05,\n",
            "        8.93697870e-06,  5.53035761e-06,  8.52642825e-06,  9.21224910e-06,\n",
            "        3.42671701e-05,  3.57921999e-05,  1.54430363e-05,  1.47865458e-05,\n",
            "        1.24093094e-05,  1.53477504e-06]), array([ 3.17663122e-01,  7.25994448e-01,  7.44092141e-01,  7.99987908e-01,\n",
            "        8.23028065e-01,  7.59567656e-01,  6.79084129e-01,  6.59123063e-01,\n",
            "        7.15361197e-01,  7.79750745e-01,  7.62754484e-01,  7.94733560e-01,\n",
            "        7.82067283e-01, -2.71431517e+02,  2.58609125e+01,  1.96542829e+00,\n",
            "        5.34923042e+00,  5.39213754e+00,  2.57988133e+00, -6.34104384e-01,\n",
            "       -6.39046512e+00, -9.22518973e+00, -2.89964450e+00, -8.77519002e-01,\n",
            "       -3.70352247e+00, -4.02839242e+00, -2.92991753e+00, -7.67328926e-01,\n",
            "       -1.39951041e+00, -4.14683339e+00, -4.76879283e+00, -2.26429723e+00,\n",
            "       -3.95781872e+00,  1.81585476e-02,  2.50966959e-03,  2.08230074e-03,\n",
            "        3.39532984e-02,  7.41802809e-01,  7.11295299e-01,  6.68944226e-02,\n",
            "        3.31735631e-02,  5.31709536e-01,  3.23332153e+00,  2.65508672e+00,\n",
            "        1.34512203e-01,  1.82597836e-01,  3.51130715e-01,  3.28141150e-01,\n",
            "        1.96765838e-01,  1.46076133e-01,  1.74810628e-01,  3.34878424e-01,\n",
            "        1.21120640e+00,  1.15162566e+00,  6.90103934e-02,  5.85613454e-02,\n",
            "        7.09966137e-01,  9.35650476e-01,  3.83087020e-01,  3.70177800e-02,\n",
            "        5.28847601e-02,  7.73307718e-02,  1.52204928e-02,  1.47334682e-02,\n",
            "        3.77677587e-02,  5.52103456e-02,  9.96187200e-02,  1.57996235e-01,\n",
            "        7.07735896e-02,  1.66556136e-02,  2.78695570e-02,  3.53582673e-02,\n",
            "        8.78442486e-02,  4.17355265e-02,  1.99321821e-02,  7.36576507e-02,\n",
            "        6.37138638e-02,  7.30890787e-02,  5.98697950e-02,  6.64875580e-02,\n",
            "        5.45686117e-02,  4.60463634e-02,  1.61860326e-01,  1.11503449e-01,\n",
            "        3.38749499e-02,  1.57539908e-01,  1.92917259e-01,  5.13159689e-02,\n",
            "        4.43482257e-02,  7.80996992e-02,  4.78455594e-02,  5.10116356e-02,\n",
            "        5.53507828e-02,  2.07679751e-02,  2.16677763e-02,  1.09029316e-02,\n",
            "        9.13953758e-03,  3.92123593e-03,  3.57064115e-03,  4.24069529e-03,\n",
            "        5.54877005e-03,  5.46365029e-03,  1.16720927e-02,  1.31043577e-02,\n",
            "        1.09600835e-02,  1.55796599e-02,  1.51593399e-02,  1.06798972e-02,\n",
            "        6.47762858e-03,  6.92913477e-03,  6.46983069e-03,  5.67949692e-03,\n",
            "        4.79557621e-03,  5.05854146e-03,  5.23647517e-03,  8.77355720e-03,\n",
            "        1.19322300e-02,  1.78020747e-02,  1.40312824e-02,  6.92925292e-03,\n",
            "        5.39446948e-03,  4.21862662e-03,  3.05498400e-03,  3.59538413e-03,\n",
            "        3.04793154e-03,  2.40650551e-03,  2.74947226e-03,  3.09199768e-03,\n",
            "        3.30522006e-03,  3.63163463e-03,  2.74538693e-03,  2.15470906e-03,\n",
            "        2.36220139e-03,  2.34870704e-03,  2.59352034e-03,  2.46085133e-03,\n",
            "        2.16765636e-03,  2.53479034e-03,  2.59420705e-03,  2.35450948e-03,\n",
            "        2.38168169e-03,  2.41666983e-03,  2.20504956e-03,  2.43767583e-03,\n",
            "        2.33437026e-03,  2.11870102e-03,  2.14432776e-03,  2.32884272e-03,\n",
            "        2.15908485e-03,  2.01956777e-03,  1.94507455e-03,  1.90557013e-03,\n",
            "        2.02797551e-03,  1.84094200e-03,  1.99176196e-03,  1.93678323e-03,\n",
            "        1.99119810e-03,  2.05411824e-03,  1.92658295e-03,  2.01500097e-03,\n",
            "        1.94342971e-03,  1.86824558e-03]), array([ 1.33015046e-01,  5.73826015e-01,  4.92979079e-01,  5.09064734e-01,\n",
            "        5.47892272e-01,  6.15072906e-01,  6.30184293e-01,  6.51077569e-01,\n",
            "        5.80142200e-01,  6.18695796e-01,  7.51163483e-01,  6.35992169e-01,\n",
            "        6.22719407e-01, -5.12726379e+02,  9.64553680e+01, -2.88214588e+01,\n",
            "        2.72651119e+01, -1.53857315e+00,  5.19132900e+00, -5.68347597e+00,\n",
            "       -1.79594078e+01, -2.24728603e+01,  8.70883656e+00, -1.80567813e+00,\n",
            "       -1.11987543e+01, -7.98986292e+00, -7.43605757e+00,  1.65452749e-01,\n",
            "       -1.07513018e+01, -6.19056273e+00, -9.95541477e+00, -3.75310779e+00,\n",
            "       -9.60981464e+00,  7.20409397e-03,  7.20930329e-05,  4.06065155e-05,\n",
            "        4.22755955e-03,  2.42217317e-01,  3.54564399e-01,  3.10383402e-02,\n",
            "        5.60663501e-03,  3.14777829e-02,  2.63566077e-01,  5.17020702e-01,\n",
            "        1.20512560e-01,  1.19370315e-02,  3.61227430e-02,  7.61930197e-02,\n",
            "        6.82846606e-02,  1.99177377e-02,  4.72350754e-02,  2.89879050e-02,\n",
            "        1.34975776e-01,  3.69639605e-01,  1.47435710e-01,  1.06908334e-02,\n",
            "        6.92475075e-03,  1.01734780e-01,  2.75990784e-01,  8.03431645e-02,\n",
            "        1.01531148e-02,  1.17162298e-02,  3.26244012e-02,  8.02908093e-03,\n",
            "        1.58562721e-03,  2.91375094e-03,  3.71896685e-03,  1.33441687e-02,\n",
            "        2.33044792e-02,  2.28871088e-02,  2.13705772e-03,  2.20291596e-03,\n",
            "        1.88855373e-03,  7.07461592e-03,  8.00163671e-03,  3.29812430e-03,\n",
            "        1.70518439e-02,  1.32295052e-02,  1.19224908e-02,  1.45230787e-02,\n",
            "        1.00319134e-02,  1.09087843e-02,  5.23882546e-03,  1.75481737e-02,\n",
            "        5.24302945e-02,  1.40879657e-02,  1.58322696e-02,  7.83292875e-02,\n",
            "        1.61744840e-02,  4.92290035e-03,  1.05168736e-02,  1.44182686e-02,\n",
            "        8.49774107e-03,  8.20220821e-03,  4.61860187e-03,  3.15433647e-03,\n",
            "        2.90629780e-03,  1.33456988e-03,  6.64298132e-04,  1.89617771e-04,\n",
            "        5.81944128e-04,  4.81342053e-04,  9.39397549e-04,  7.98806897e-04,\n",
            "        2.92006158e-03,  1.70659402e-03,  1.55340810e-03,  2.28718296e-03,\n",
            "        1.88537885e-03,  1.05686917e-03,  1.49766996e-03,  8.96175799e-04,\n",
            "        7.00964301e-04,  1.15634687e-03,  7.98703521e-04,  6.32705924e-04,\n",
            "        1.04769005e-03,  1.62887445e-03,  2.67849234e-03,  3.36712156e-03,\n",
            "        1.30188570e-03,  8.74049379e-04,  6.90669345e-04,  3.58856429e-04,\n",
            "        1.87399521e-04,  3.29983421e-04,  1.31482811e-04,  2.49700301e-04,\n",
            "        2.51415448e-04,  2.04238793e-04,  2.55300081e-04,  1.86576508e-04,\n",
            "        9.31270915e-05,  9.69202811e-05,  8.19351917e-05,  8.75951664e-05,\n",
            "        1.04939580e-04,  8.46070325e-05,  8.31302459e-05,  1.52731533e-04,\n",
            "        1.23569393e-04,  6.52422023e-05,  9.14261764e-05,  8.04562296e-05,\n",
            "        6.93980182e-05,  1.17340474e-04,  8.01817514e-05,  4.38965108e-05,\n",
            "        2.75905677e-05,  1.71789943e-05,  4.93668040e-06,  3.49991524e-06,\n",
            "        3.41148279e-06,  2.95313953e-06,  1.15431715e-06,  1.37046277e-06,\n",
            "        2.43917384e-06,  2.67936002e-06,  9.12831547e-06,  5.22858500e-06,\n",
            "        1.03273442e-06,  1.55176551e-07])]\n",
            "1/1 [==============================] - 0s 133ms/step\n",
            "[[0.00036416]\n",
            " [0.00030878]\n",
            " [0.06224844]]\n"
          ]
        }
      ]
    },
    {
      "cell_type": "code",
      "source": [
        "\n",
        "path='/content/drive/MyDrive/MCA Dataset/dev_data/302_AUDIO.wav'\n",
        "emotion_model_using_wav_audio(path)"
      ],
      "metadata": {
        "colab": {
          "base_uri": "https://localhost:8080/"
        },
        "id": "UBAV1IsAi9Jx",
        "outputId": "ec51b1a0-cb64-4b35-d3f2-bfb27012e0a0"
      },
      "execution_count": null,
      "outputs": [
        {
          "output_type": "stream",
          "name": "stderr",
          "text": [
            "/usr/local/lib/python3.10/dist-packages/sklearn/base.py:318: UserWarning: Trying to unpickle estimator StandardScaler from version 0.22.2.post1 when using version 1.2.2. This might lead to breaking code or invalid results. Use at your own risk. For more info please refer to:\n",
            "https://scikit-learn.org/stable/model_persistence.html#security-maintainability-limitations\n",
            "  warnings.warn(\n"
          ]
        },
        {
          "output_type": "stream",
          "name": "stdout",
          "text": [
            "1/1 [==============================] - 0s 208ms/step\n"
          ]
        },
        {
          "output_type": "execute_result",
          "data": {
            "text/plain": [
              "{'disgust': 0.0008836287,\n",
              " 'happy': 0.0679561,\n",
              " 'sad': 0.03787496,\n",
              " 'neutral': 0.1905356,\n",
              " 'fear': 0.63908046,\n",
              " 'angry': 0.06366926}"
            ]
          },
          "metadata": {},
          "execution_count": 2
        }
      ]
    },
    {
      "cell_type": "code",
      "source": [],
      "metadata": {
        "id": "oKm7NuOsK0yV"
      },
      "execution_count": null,
      "outputs": []
    },
    {
      "cell_type": "code",
      "source": [
        "# import pandas as pd\n",
        "# import numpy as np\n",
        "# import joblib\n",
        "# import librosa\n",
        "# from tensorflow.keras.models import load_model\n",
        "# from sklearn.preprocessing import StandardScaler\n",
        "# import keras\n",
        "# model_path_json = 'depression_model_using_wav_audio.json'\n",
        "# model_path = 'depression_model_using_wav_audio.h5'\n",
        "# path_of_wav_audio_file='/content/dilshad.wav'\n",
        "# path_of_scaler_filename='scaler_filename_dep.pkl'\n",
        "\n",
        "# def emotion_model_using_wav_audio(path):\n",
        "#   def noise(data):\n",
        "#     noise_amp = 0.035*np.random.uniform()*np.amax(data)\n",
        "#     data = data + noise_amp*np.random.normal(size=data.shape[0])\n",
        "#     return data\n",
        "\n",
        "#   def stretch(data, rate=0.8):\n",
        "#       return librosa.effects.time_stretch(y=data, rate=rate)\n",
        "\n",
        "\n",
        "#   def shift(data):\n",
        "#       shift_range = int(np.random.uniform(low=-5, high = 5)*1000)\n",
        "#       return np.roll(data, shift_range)\n",
        "\n",
        "#   def pitch(data, sampling_rate, n_steps=0.7):  # Changed pitch_factor to n_steps for clarity\n",
        "#       return librosa.effects.pitch_shift(y=data, sr=sampling_rate, n_steps=n_steps)\n",
        "\n",
        "\n",
        "#   def extract_features(data,sample_rate):\n",
        "#       # ZCR\n",
        "#       result = np.array([])\n",
        "#       zcr = np.mean(librosa.feature.zero_crossing_rate(y=data).T, axis=0)\n",
        "#       result=np.hstack((result, zcr)) # stacking horizontally\n",
        "\n",
        "#       # Chroma_stft\n",
        "#       stft = np.abs(librosa.stft(data))\n",
        "#       chroma_stft = np.mean(librosa.feature.chroma_stft(S=stft, sr=sample_rate).T, axis=0)\n",
        "#       result = np.hstack((result, chroma_stft)) # stacking horizontally\n",
        "\n",
        "#       # MFCC\n",
        "#       mfcc = np.mean(librosa.feature.mfcc(y=data, sr=sample_rate).T, axis=0)\n",
        "#       result = np.hstack((result, mfcc)) # stacking horizontally\n",
        "\n",
        "#       # Root Mean Square Value\n",
        "#       rms = np.mean(librosa.feature.rms(y=data).T, axis=0)\n",
        "#       result = np.hstack((result, rms)) # stacking horizontally\n",
        "\n",
        "#       # MelSpectogram\n",
        "#       mel = np.mean(librosa.feature.melspectrogram(y=data, sr=sample_rate).T, axis=0)\n",
        "#       result = np.hstack((result, mel)) # stacking horizontally\n",
        "\n",
        "#       return result\n",
        "\n",
        "#   def get_features(path):\n",
        "#       # duration and offset are used to take care of the no audio in start and the ending of each audio files as seen above.\n",
        "#       data, sample_rate = librosa.load(path, duration=2.5, offset=0.6)\n",
        "\n",
        "#       # without augmentation\n",
        "#       res1 = extract_features(data,sample_rate)\n",
        "#       result = np.array(res1)\n",
        "\n",
        "#       # data with noise\n",
        "#       noise_data = noise(data)\n",
        "#       res2 = extract_features(noise_data,sample_rate)\n",
        "#       result = np.vstack((result, res2)) # stacking vertically\n",
        "\n",
        "#       # data with stretching and pitching\n",
        "#       new_data= stretch(data)\n",
        "#       data_stretch_pitch = pitch(new_data, sample_rate)\n",
        "#       res3 = extract_features(data_stretch_pitch,sample_rate)\n",
        "#       result = np.vstack((result, res3)) # stacking vertically\n",
        "\n",
        "#       return result\n",
        "\n",
        "#   X= []\n",
        "#   features = get_features(path)\n",
        "#   for feature in features:\n",
        "#     X.append(feature)\n",
        "#   Features = pd.DataFrame(X)\n",
        "#   X = Features.iloc[: ,:-1].values\n",
        "#   scaler = joblib.load(path_of_scaler_filename)\n",
        "#   x_test = scaler.transform(Features)\n",
        "#   x_test = np.expand_dims(x_test, axis=2)\n",
        "#   from keras.models import model_from_json\n",
        "#   with open(model_path_json, \"r\") as json_file:\n",
        "#       model_json = json_file.read()\n",
        "#   model = model_from_json(model_json)\n",
        "#   model.load_weights(model_path)\n",
        "\n",
        "#   pred_test = model.predict(x_test)\n",
        "#   Threshold=0.29\n",
        "#   print(pred_test)\n",
        "#   # if(pred_test>= Threshold):\n",
        "#   #     return 1\n",
        "#   # else:\n",
        "#   #     return 0\n",
        "\n",
        "\n",
        "\n",
        "\n",
        "\n",
        "# emotion_model_using_wav_audio(path_of_wav_audio_file)\n",
        "\n",
        "\n",
        "\n",
        "\n"
      ],
      "metadata": {
        "id": "6-EF1AdUjK5T",
        "colab": {
          "base_uri": "https://localhost:8080/"
        },
        "outputId": "3e349c7b-7342-45a6-8a89-3463f99bc279"
      },
      "execution_count": null,
      "outputs": [
        {
          "output_type": "stream",
          "name": "stderr",
          "text": [
            "WARNING:tensorflow:5 out of the last 420 calls to <function Model.make_predict_function.<locals>.predict_function at 0x7a6719f713f0> triggered tf.function retracing. Tracing is expensive and the excessive number of tracings could be due to (1) creating @tf.function repeatedly in a loop, (2) passing tensors with different shapes, (3) passing Python objects instead of tensors. For (1), please define your @tf.function outside of the loop. For (2), @tf.function has reduce_retracing=True option that can avoid unnecessary retracing. For (3), please refer to https://www.tensorflow.org/guide/function#controlling_retracing and https://www.tensorflow.org/api_docs/python/tf/function for  more details.\n"
          ]
        },
        {
          "output_type": "stream",
          "name": "stdout",
          "text": [
            "1/1 [==============================] - 0s 138ms/step\n",
            "[[3.6416089e-04]\n",
            " [2.8599208e-05]\n",
            " [6.2248442e-02]]\n"
          ]
        }
      ]
    }
  ]
}